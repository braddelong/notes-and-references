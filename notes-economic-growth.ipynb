{
 "cells": [
  {
   "cell_type": "markdown",
   "metadata": {},
   "source": [
    "### <font color=\"880000\"> Notes: Economic Growth </font>"
   ]
  },
  {
   "cell_type": "markdown",
   "metadata": {},
   "source": [
    "**Doug Jones**: _The World at 1000 BCE_ <https://www.bradford-delong.com/2019/10/the-world-at-1000-bce-logarithmic-history.html>: \" <https://logarithmichistory.wordpress.com/2019/10/01/the-world-at-1000-bce-5/>: \"The world population is about 50 million. The Bantu expansion is just beginning, from a homeland on the present Nigeria/Cameroon border. It will eventually cover most of Africa south of the equator.... Seafarers with roots in the Lapita culture have already reached Western Polynesian.... The Olmec are flourishing in Meso-America.... In China, the Mandate of Heaven has passed from the Shang Dynasty to the Zhou. In the Near East and Eastern Mediterranean, the Late Bronze Age collapse has opened up space for smaller states. Tyre and other Phoenician city-states are sailing the Mediterranean. Phoenicians are using an alphabet that Greeks will eventually adapt.... Further south, Philistines and Israelites have been duking it out, with Israelites gaining the upper hand under David* (king from 1010 to 970 BCE). The Iron Age conventionally begins now.... On the steppe, horses have long been domesticated, but people are now learning to make effective use of cavalry–fighting in formation and firing volleys from horseback. This is the beginning of 2500 years in which the division between Steppe and Sown will be central to Eurasian history...\n",
    "\n",
    "    #2019-10-05 #ancient #economicgrowth #economichistory\n",
    "\n",
    "&nbsp;"
   ]
  },
  {
   "cell_type": "markdown",
   "metadata": {},
   "source": [
    "**Oded Galor, Omer Moav, and Dietrich Vollrath** (2009): _Inequality in Landownership, the Emergence of Human-Capital Promoting Institutions, and the Great Divergence_ <https://delong.typepad.com/land-inequality.pdf>: \"Inequality in the distribution of landownership adversely affected the emergence of human-capital promoting institutions (e.g. public schooling), and thus the pace and the nature of the transition from an agricultural to an industrial economy, contributing to the emergence of the great divergence in income per capita across countries. The prediction of the theory regarding the adverse effect of the concentration of landownership on education expenditure is established empirically based on evidence from the beginning of the 20th century in the U.S...\n",
    "\n",
    ">* Land-abundant countries that were characterized by an unequal distribution of land were overtaken in the process of industrialization by land-scarce countries in which land distribution was rather equal...\n",
    ">* As long as landowners affect the political process and thereby the implementation of education reforms, inequality in the distribution of landownership is a hurdle for human-capital accumulation, slowing the process of industrialization and the transition to modern growth...\n",
    "\n",
    "    #noted #2019-09-28\n",
    "    \n",
    "&nbsp;"
   ]
  },
  {
   "cell_type": "markdown",
   "metadata": {},
   "source": [
    "**Doug Jones**: _The Patriarchal Age_ <https://logarithmichistory.wordpress.com/2019/09/27/the-patriarchal-age-5/>: \"The left panel shows effective population sizes based on Y chromosome DNA, transmitted down the male line. The right panel shows effective population sizes based mitochondrial DNA, transmitted down the female line. The dramatic dip on the left panel, where effective population sizes go way down in the last ten thousand years, means that there was a period, from the initial spread of major language families to near the dawn of history, where just a few men were leaving lots of descendants in the male line. This must reflect a time when polygyny – some men taking multiple wives, others not reproducing at all – was common. But this pattern probably reflects more than just polygyny. It probably also reflects a continuing advantage, carried over many generations, for some male lines of descent. In other words, back in the day, not just did Lord Y (or whoever) have many wives and many sons, but his sons, his sons’ sons. his son’s son’s sons, and so on, had many offspring. This probably implies some kind of long-term social memory, such that that the “Sons of Y” or the “House of Y” had a privileged position for many generations.... Eurasian history is often told as the story the rise of states and empires. But it’s also the story of the rise of patrilineal descent groups (and the heavy policing of female sexuality to make sure of paternity in the male line)...\n",
    "\n",
    "<img style=\"display:block; margin-left:auto; margin-right:auto;\" src=\"https://delong.typepad.com/.a/6a00e551f0800388340240a4b41370200d-pi\" alt=\"Patriarchy jpg 582×248 pixels\" title=\"patriarchy_jpg_582×248_pixels.png\" border=\"0\" width=\"498\" height=\"232\" />\n",
    "\n",
    "**Monika Karmin _et al._**: _A Recent Bottleneck of Y Chromosome Diversity Coincides with a Global Change in Culture_ <https://bib.irb.hr/datoteka/715300.2015_Genome_Res._Karmin-A_recent_bottleneck_of_Y_chromosome_diversity.pdf>:\n",
    "\n",
    "* _Supplemental Material_ <https://genome.cshlp.org/content/suppl/2015/02/18/gr.186684.114.DC1.html>\n",
    "\n",
    "<img style=\"display:block; margin-left:auto; margin-right:auto;\" src=\"https://delong.typepad.com/.a/6a00e551f0800388340240a4d8a0c8200b-pi\" alt=\"Https genome cshlp org content suppl 2015 02 18 gr 186684 114 DC1 Supplemental Figures pdf\" title=\"https___genome_cshlp_org_content_suppl_2015_02_18_gr_186684_114_DC1_Supplemental_Figures_pdf.png\" border=\"0\" width=\"500\" />\n",
    "\n",
    "<img style=\"display:block; margin-left:auto; margin-right:auto;\" src=\"https://delong.typepad.com/.a/6a00e551f0800388340240a4d8a0d3200b-pi\" alt=\"Https genome cshlp org content suppl 2015 02 18 gr 186684 114 DC1 Supplemental Figures pdf\" title=\"https___genome_cshlp_org_content_suppl_2015_02_18_gr_186684_114_DC1_Supplemental_Figures_pdf.png\" border=\"0\" width=\"499\" height=\"471\" />\n",
    "\n",
    "<img style=\"display:block; margin-left:auto; margin-right:auto;\" src=\"https://delong.typepad.com/.a/6a00e551f0800388340240a4b413c0200d-pi\" alt=\"Https genome cshlp org content suppl 2015 02 18 gr 186684 114 DC1 Supplemental Figures pdf\" title=\"https___genome_cshlp_org_content_suppl_2015_02_18_gr_186684_114_DC1_Supplemental_Figures_pdf.png\" border=\"0\" width=\"359\" height=\"500\" />\n",
    "\n",
    "    #noted #2019-10-06\n",
    "    \n",
    "&nbsp;"
   ]
  },
  {
   "cell_type": "markdown",
   "metadata": {},
   "source": [
    "**Gregory Clark**: _The Secret History of the Industrial Revolution_ <http://faculty.econ.ucdavis.edu/faculty/gclark/papers/secret2001.pdf>\n",
    "\n",
    "Clark, Gregory. 2007. _A Farewell to Alms: A Brief Economic History of the World_. Princeton: Princeton University Press.\n",
    "\n",
    "&nbsp;"
   ]
  },
  {
   "cell_type": "markdown",
   "metadata": {},
   "source": [
    "**Gregory Clark**: _The Industrial Revolution_ <http://faculty.econ.ucdavis.edu/faculty/gclark/papers/HEG%20-%20final%20draft.pdf>: \"The Industrial Revolution decisively changed economy wide productivity growth rates. For successful economies, measured efficiency growth rates increased from close to zero to close to 1% per year in the blink of an eye, in terms of the long history of humanity, seemingly within 50 years of 1800 in England. Yet the Industrial Revolution has defied simple economic explanations or modeling. This paper seeks to set out the empirical parameters of the Industrial Revolution that any economic theory must encompass, and illustrate why this makes explaining the Industrial Revolution so difficult within the context of standard economic models and narratives...\n",
    "\n",
    "&nbsp;"
   ]
  },
  {
   "cell_type": "markdown",
   "metadata": {},
   "source": [
    "**Robert C. Allen** (2008): _A Review of Gregory Clark’s\n",
    "A Farewell to Alms: A Brief Economic History of the World_ <http://faculty.econ.ucdavis.edu/faculty/gclark/Farewell%20to%20Alms/Allen_JEL_Review.pdf>: \"A Farewell to Alms advances striking claims about the economic history of the world. These include (1) the preindustrial world was in a Malthusian preventive check equi- librium, (2) living standards were unchanging and above subsistence for the last 100,000 years, (3) bad institutions were not the cause of economic backwardness, (4) successful economic growth was due to the spread of “middle class” values from the elite to the rest of society for “biological” reasons, (5) workers were the big gainers in the British Industrial Revolution, and (6) the absence of middle class values, for biological reasons, explains why most of the world is poor. The empirical support for these claims is examined, and all are questionable...\n",
    "\n",
    "&nbsp;"
   ]
  },
  {
   "cell_type": "markdown",
   "metadata": {},
   "source": [
    "**Michael Kremer** (1993: _Population Growth and Technological Change: One Million B.C. to 1990_ <https://www.jstor.org/stable/2118405?seq=1#page_scan_tab_contents>\n",
    "\n",
    "&nbsp;"
   ]
  },
  {
   "cell_type": "markdown",
   "metadata": {},
   "source": [
    "**Wikipedia**: _Ötzi the Iceman_ <https://en.wikipedia.org/wiki/%C3%96tzi>: \"Born near the present village of Feldthurns (Velturno), north of Bolzano, Italy. Died c. 3300 BCE (aged about 45) Ötztal Alps, near Hauslabjoch on the border between Austria and Italy.... Currently, it is believed that Ötzi bled to death after the arrow shattered the scapula and damaged nerves and blood vessels before lodging near the lung..... Ötzi was 160 centimetres (5 ft 3 in) tall, weighed about 50 kilograms (110 lb), and was about 45 years of age.... Analysis of pollen, dust grains and the isotopic composition of his tooth enamel indicates that he spent his childhood near the present village of Feldthurns, north of Bolzano, but later went to live in valleys about 50 kilometres farther north...<!--more-->\n",
    "\n",
    ">...Partly digested remains of ibex meat, confirmed by DNA analysis, suggesting he had a meal less than two hours before his death. Wheat grains were also found. It is believed that Ötzi most likely had a few slices of a dried, fatty meat, probably bacon, which came from a wild goat in South Tyrol, Italy. Analysis of Ötzi's intestinal contents showed two meals (the last one consumed about eight hours before his death), one of chamois meat, the other of red deer and herb bread; both were eaten with roots and fruits. The grain also eaten with both meals was a highly processed einkorn wheat bran, quite possibly eaten in the form of bread. In the proximity of the body, and thus possibly originating from the Iceman's provisions, chaff and grains of einkorn and barley, and seeds of flax and poppy were discovered, as well as kernels of sloes (small plum-like fruits of the blackthorn tree) and various seeds of berries growing in the wild.[18] Hair analysis was used to examine his diet from several months before....\n",
    "\n",
    ">High levels of both copper particles and arsenic were found in Ötzi's hair. This, along with Ötzi's copper axe blade, which is 99.7% pure copper, has led scientists to speculate that Ötzi was involved in copper smelting.... Ötzi's lifestyle included long walks over hilly terrain. This degree of mobility is not characteristic of other Copper Age Europeans. Ruff proposes that this may indicate that Ötzi was a high-altitude shepherd.... Ötzi apparently had whipworm (Trichuris trichiura).... Ötzi's teeth showed considerable internal deterioration from cavities. These oral pathologies may have been brought about by his grain-heavy, high carbohydrate diet.... Ötzi was lactose intolerant....\n",
    "\n",
    ">Ötzi had a total of 61 tattoos (or Soot tattoos), consisting of 19 groups of black lines ranging from 1 to 3 mm in thickness and 7 to 40 mm long. These include groups of parallel lines running along the longitudinal axis of his body and to both sides of the lumbar spine, as well as a cruciform mark behind the right knee and on the right ankle, and parallel lines around the left wrist. The greatest concentration of markings is found on his legs, which together exhibit 12 groups of lines....\n",
    "\n",
    ">Ötzi wore a cloak made of woven grass and a coat, a belt, a pair of leggings, a loincloth and shoes, all made of leather of different skins. He also wore a bearskin cap with a leather chin strap. The shoes were waterproof and wide, seemingly designed for walking across the snow; they were constructed using bearskin for the soles, deer hide for the top panels, and a netting made of tree bark. Soft grass went around the foot and in the shoe and functioned like modern socks. The coat, belt, leggings and loincloth were constructed of vertical strips of leather sewn together with sinew. His belt had a pouch sewn to it that contained a cache of useful items: a scraper, drill, flint flake, bone awl and a dried fungus....\n",
    "\n",
    ">The leather loincloth and hide coat were made from sheepskin... nearer to modern domestic European sheep than to wild sheep.... Part of the coat was made from domesticated goat... The leggings were made from domesticated goat leather.... Shoelaces were made from the European genetic population of cattle. The quiver was made from wild roe deer, the fur hat was made from... brown bear....\n",
    "\n",
    ">Other items found with the Iceman were a copper axe with a yew handle, a chert-bladed knife with an ash handle and a quiver of 14 arrows with viburnum and dogwood shafts. Two of the arrows, which were broken, were tipped with flint and had fletching (stabilizing fins), while the other 12 were unfinished and untipped. The arrows were found in a quiver with what is presumed to be a bow string, an unidentified tool, and an antler tool which might have been used for sharpening arrow points. There was also an unfinished yew longbow that was 1.82 metres (72 in) long.\n",
    "\n",
    ">In addition, among Ötzi's possessions were berries, two birch bark baskets, and two species of polypore mushrooms with leather strings through them. One of these, the birch fungus, is known to have anthelmintic properties, and was probably used for medicinal purposes. The other was a type of tinder fungus, included with part of what appeared to be a complex firelighting kit. The kit featured pieces of over a dozen different plants, in addition to flint and pyrite for creating sparks.\n",
    "\n",
    ">Ötzi's copper axe's... haft is 60 centimetres (24 in) long and made from carefully worked yew with a right-angled crook at the shoulder, leading to the blade. The 9.5 centimetres (3.7 in) long axe head is made of almost pure copper, produced by a combination of casting, cold forging, polishing, and sharpening.... The copper in the axe came from southern Tuscany. It was let into the forked end of the crook and fixed there using birch-tar and tight leather lashing....\n",
    "\n",
    ">The Y chromosome DNA of Ötzi belongs to a subclade of G defined by the SNPs M201, P287, P15, L223 and L91 (G-L91, ISOGG G2a2b, former \"G2a4\").... Analysis of his mitochondrial DNA showed that Ötzi belongs to the K1 subclade.... Ötzi is most closely related to southern Europeans, especially to geographically isolated populations like Corsicans and Sardinians. DNA analysis also showed him at high risk of atherosclerosis and lactose intolerance, with the presence of the DNA sequence of Borrelia burgdorferi, possibly making him the earliest known human with Lyme disease.... In October 2013, it was reported that 19 modern Tyrolean men were descendants of Ötzi or of a close relative...\n",
    "\n",
    "    #noted #2019-10-07\n",
    "    \n",
    "&nbsp;"
   ]
  }
 ],
 "metadata": {
  "kernelspec": {
   "display_name": "Python 3",
   "language": "python",
   "name": "python3"
  },
  "language_info": {
   "codemirror_mode": {
    "name": "ipython",
    "version": 3
   },
   "file_extension": ".py",
   "mimetype": "text/x-python",
   "name": "python",
   "nbconvert_exporter": "python",
   "pygments_lexer": "ipython3",
   "version": "3.6.7"
  }
 },
 "nbformat": 4,
 "nbformat_minor": 4
}

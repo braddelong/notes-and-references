{
 "cells": [
  {
   "cell_type": "markdown",
   "metadata": {},
   "source": [
    "### <font color=\"8800000\"> Notes: Economists Gone Wrong </font>"
   ]
  },
  {
   "cell_type": "markdown",
   "metadata": {},
   "source": [
    "**Rana Foroohar: US Capital Expenditure Boom Fails to Live Up to Promises**: I would note that the \"boom\" in capital investment we had in 2018 was on the order of 1/5 of what the Trumpets had promised. Rana and Daniel's point is that the \"boom\" we had was directed in directions that substitute for rather than complement labor—and thus claims it will drive wage gains are implausible: \n",
    "\n",
    "**Rana Foroohar** (November 2018): _[US Capital Expenditure Boom Fails to Live Up to Promises](https://www.ft.com/content/a2083406-ee83-11e8-89c8-d36339d835c0)_: \"One of the key economic tales told by the Trump administration is that corporate tax cuts would spur huge investment and growth in the US economy, raising wages and ushering in a new era of bullishness. Not quite.... Nearly half of the corporate profits that were repatriated went straight into stock price-bolstering share buybacks. Capital expenditures grew too, at least for a couple of quarters. But what business is investing in has changed quite a lot... and that alters everything.... Back in 1998... 48.3 per cent of business investment went to new structures and industrial equipment and about 30 per cent into technology such as information processing equipment and various types of intellectual property, according to data compiled by Daniel Alpert.... This year, only 28.6 per cent went to structures and industrial equipment, while technology and intellectual property made up 52 per cent of all new investment...\n",
    "\n",
    ">...Investments in data processing equipment or software upgrades, which make up a big chunk of this year’s tech related spending, tend to be job killing, at least in the short term.... Investment in intangibles such as licenses or patents does represent innovation and it can enrich the owners of that intellectual capital. But such spending does not tend to improve the livelihoods of a broader swath of workers—at least not in America.... You can see these shifts playing out in the key corporate stories of the day.... Five big US companies—Apple, Alphabet, Cisco, Microsoft and Oracle — increased capital investment 42 per cent year on year to 42.6bn. But they also spent a whopping 115bn buying back their own stock, making them by far the largest beneficiaries of Donald Trump’s tax cuts, a great irony considering how the US president likes to position himself as being tough on Silicon Valley....\n",
    "\n",
    ">Like the Trump tax cuts, the current investment boom has benefited companies. It has been less kind to workers, particularly those who once would have benefited from factory jobs that carried good health and retirement benefits.... We are stuck with a capex “boom” that is more like a fizzle...\n",
    "\n",
    "    #noted\n",
    "\n",
    "&nbsp;\n",
    "\n",
    "**Robert Waldmann: If One Wishes to Redistribute...**: This is, I think, A very important observation from Robert Waldmann—one that has escaped the mainstream public finance literature. He has convinced me that what the utilitarian math says has always been... misread... in an elementary mistake similar to the \"neo-Fisherian\" claim that the way to raise inflation is to raise nominal interest rates: it is a fundamental misunderstanding of the properties of the dynamic system: \n",
    "\n",
    "**Robert Waldmann**: _[If one wishes to redistribute from the rich, and also worries about the effect of taxes on wealth on incentives to save,](https://twitter.com/robertwaldmann/status/1169871513375215616)_ then the correct strategy is to tax at the maximum rate possible until there is no longer any reason to redistribute <http://rjwaldmann.blogspot.com/2008/06/optimal-capital-income-taxation-it-is.html>. This is a mathematical result based on the most standard economic model.  Math doesn't care about Alan Cole's feelings.  In a one period model, one must settle for the second best. In an infinite horizon model one eventually gets to first best from now on. It is widely noted that [in a model with T periods] the optimal tax on wealth (and on capital income) goes to zero as T goes to infinity.  It is less often noticed that the way this happens is all taxation which serves any [redistributive] purpose is completed as quickly as possible...\n",
    "\n",
    ">...If the state is allowed to accumulate a sovereign wealth fund, it should do so until it can cover all the expenses and provide all the welfare benefits it might wish to provide out of its capital income. Then and only then it should leave private capital income alone.  For some parameters, the optimum is achieved with 99% public ownership of the means of production. I stress that this is the standard analysis. If the state isn't allowed to own capital, then the standard result is simply a math mistake which went un-noticed for decades. \n",
    "\n",
    ">Marx had a theory about the failure to get the math right, but I am not a Marxist...\n",
    "\n",
    "Robert is responding to:\n",
    "\n",
    "**Alan Cole**: \"I have seen this response several times from wealth tax advocates. Not once have I seen them do anything to help savers or investors at any level of income. Put money away for later and you become a piñata for them to beat at with a stick. It's short-termism all the way down...\n",
    "\n",
    "**Nick Beaudrot**: \"Ah yes, all those 'savers' who 'put money away' until it reaches :checks Warren's plan: $50MM in assets. <https://twitter.com/AlanMCole/status/1169610684465913856>\n",
    "\n",
    "    #noted #2019-09-23\n",
    "    \n",
    "&nbsp;"
   ]
  },
  {
   "cell_type": "markdown",
   "metadata": {},
   "source": [
    "**Paul Krugman: Hangover Theorists**: From the past. Worth highlighting. Why? Because when the nest recession comes, the usual suspects will once gain start claiming the the should not do anything to shorten or cushion it. And the usual suspects will once again be wrong: \n",
    "\n",
    "**Paul Krugman** (2008): _[Hangover Theorists](https://krugman.blogs.nytimes.com/2008/12/27/hangover-theorists/)_: \"Somehow I missed this: via Steve Levitt, John Cochrane explaining that recessions are _good_ for you.... The basic idea is that a recession, even a depression, is somehow a necessary thing, part of the process of 'adapting the structure of production'. We have to get those people who were pounding nails in Nevada into other places and occupation, which is why unemployment has to be high in the housing bubble states for a while. The trouble... is twofold: 1. It doesn’t explain why there isn’t mass unemployment when bubbles are growing as well as shrinking—why didn’t we need high unemployment elsewhere to get those people into the nail-pounding-in-Nevada business? 2. It doesn’t explain why recessions reduce unemployment across the board, not just in industries that were bloated by a bubble.... The current slump is affecting some non-housing-bubble states as or more severely as the epicenters of the bubble.... Unemployment is up everywhere. And while the centers of the bubble, Florida and California, are high in the rankings, so are Georgia, Alabama, and the Carolinas. So the liquidationists are still with us. According to Brad DeLong, 'Milton Friedman would recall that at the Chicago where he went to graduate school such dangerous nonsense was not taught...' But now, apparently, it is. **Update**: Not to mention the idea that employment is dropping because workers don’t feel like working...\n",
    "\n",
    "    #noted #2019-09-20\n",
    "    \n",
    "&nbsp;"
   ]
  },
  {
   "cell_type": "markdown",
   "metadata": {},
   "source": [
    "**Larry Meyer**: _[In John Cassidy: The Decline of Economics](http://archives.newyorker.com/?i=1996-12-02#folio=050)_: \"In our firm, we always thanked Robert Lucas for giving us a virtual monopoly. Because of Lucas and others, for two decades no graduate students are trained who were capable of competing with us by building econometric models that had a hope of explaining short-run output and price dynamics. [Academic economics Ph.D. programs] educated a lot of macroeconomists who were trained to do only two things--teach macroeconomics to graduate students, and publish in the journals...\n",
    "\n",
    "    #noted 2019-09-05\n",
    "    \n",
    "&nbsp;"
   ]
  }
 ],
 "metadata": {
  "kernelspec": {
   "display_name": "Python 3",
   "language": "python",
   "name": "python3"
  },
  "language_info": {
   "codemirror_mode": {
    "name": "ipython",
    "version": 3
   },
   "file_extension": ".py",
   "mimetype": "text/x-python",
   "name": "python",
   "nbconvert_exporter": "python",
   "pygments_lexer": "ipython3",
   "version": "3.6.7"
  }
 },
 "nbformat": 4,
 "nbformat_minor": 4
}

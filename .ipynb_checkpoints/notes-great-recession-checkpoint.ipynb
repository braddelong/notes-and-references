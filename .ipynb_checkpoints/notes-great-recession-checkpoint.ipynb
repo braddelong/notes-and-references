{
 "cells": [
  {
   "cell_type": "markdown",
   "metadata": {},
   "source": [
    "### <font color=\"8800000\"> Notes: Great Recession </font>"
   ]
  },
  {
   "cell_type": "markdown",
   "metadata": {},
   "source": [
    "**Weekend Reading**: _2005 Comments on and Discussion of Raghu Rajan: \"Has Financial Development Made the World Riskier?\"_ <https://www.bradford-delong.com/2019/10/weekend-reading-2005-comments-on-and-discussion-of-raghu-rajan-has-financial-development-made-the-world-riskier.html>\n",
    "\n",
    "&nbsp;"
   ]
  },
  {
   "cell_type": "markdown",
   "metadata": {},
   "source": [
    "**Hoisted from the Archives: Department of \"Huh!?\": Raghu Rajan Is a Member of the Pain Caucus, and I Don't Understand Why...**: <img style=\"display:block; margin-left:auto; margin-right:auto;\" src=\"http://delong.typepad.com/.a/6a00e551f080038834022ad39f5903200b-pi\" alt=\"stacks and stacks of books\" title=\"stacks_and_stacks_of_books.png\" border=\"0\" width=\"738\" height=\"144\" />\n",
    "\n",
    "**Department of \"Huh!?\"**: Back in 2010, there were a great many people for whom I had immense respect who were members of the Pain Caucus. And I still cannot follow what they were thinking at all. Construction had already shrunk fully by late 2007. It remains a great mystery—was it just a Chicago echo chamber in which people did not look at data?: \n",
    "\n",
    "_[Raghu Rajan Is a Member of the Pain Caucus, and I Don't Understand Why...](https://www.bradford-delong.com/2010/07/department-of-huh.html)_: Raghu Rajan: \"this recession is not a 'usual' recession. It followed a period of ultra-low interest rates when interest sensitive segments of the economy got a tremendous boost. The United States had far too much productive capacity devoted to durable goods and houses, because consumers could obtain financing for them easily. With households recovering slowly from the overhang of debt resulting from the binge, and with lenders extremely risk averse, it is unrealistic to expect households to spend beyond their means again, and unwise to try to tempt them to do so...\n",
    "\n",
    ">...If households are going to want fewer houses, industries such as construction will have to shrink (as should the financial sector that channeled the easy credit). A significant number of jobs will disappear permanently, and workers who know how to build houses or to sell them will have to learn new skills if they can. Put differently, the productive capacity of the economy has shrunk. Resources have to be reallocated into new sectors so that any recovery is robust, and not simply a resumption of the old unsustainable binge.  The United States economy has to find new pathways for growth. And this will not necessarily be facilitated by ultra-low interest rates...\n",
    "\n",
    "But... but... but... construction already shrank!\n",
    "\n",
    "As of the end of 2010, the construction sector will have shrunk in nominal terms to its size in 1999, when the economy as a whole was only 57% as large as it is today...\n",
    "\n",
    "As of the end of 2010, the summed deviations of residential construction spending from their long-term trend will be zero: we will have underbuilt relative to trend in late 2007, 2008, 2009, and 2010 by about half again as much as we overbuilt relative to trend in 2003, 2004, 2005, 2006, and early 2007.\n",
    "\n",
    "    #economicsgonewrong #hoistedfromthearchives #macro #paincaucus #2019-09-24\n",
    "    \n",
    "&nbsp;"
   ]
  },
  {
   "cell_type": "markdown",
   "metadata": {},
   "source": [
    "**Monday Smackdown/Hoisted from the Archives: Paul Krugman: March of the Peacocks**: I was hissed at a Pete Buttigieg fundraiser in August when I said that the Obama presidency had been disappointing. But I do believe this is right, and I think this taking your eye off the good-policy ball in order to strut about peacocking was a major thing that went wrong: \n",
    "\n",
    "**Paul Krugman** (2010): _[March of the Peacocks](https://www.nytimes.com/2010/01/29/opinion/29krugman.html?pagewanted=print)_: \"Last week, the Center for American Progress, a think tank with close ties to the Obama administration, published an acerbic essay about the difference between true deficit hawks and showy 'deficit peacocks'. You can identify deficit peacocks, readers were told, by the way they pretend that our budget problems can be solved with gimmicks like a temporary freeze in nondefense discretionary spending. One week later, in the State of the Union address, President Obama proposed a temporary freeze in nondefense discretionary spending. Wait, it gets worse. To justify the freeze, Mr. Obama used language that was almost identical to widely ridiculed remarks early last year by John Boehner, the House minority leader. Boehner then: 'American families are tightening their belt, but they don’t see government tightening its belt.' Obama now: 'Families across the country are tightening their belts and making tough decisions. The federal government should do the same.' What’s going on here? The answer, presumably, is that Mr. Obama’s advisers believed he could score some political points by doing the deficit-peacock strut. I think they were wrong, that he did himself more harm than good. Either way, however, the fact that anyone thought such a dumb policy idea was politically smart is bad news because it’s an indication of the extent to which we’re failing to come to grips with our economic and fiscal problems...\n",
    "\n",
    "    #mondaysmackdown #fiscalpolicy #hoistedfromtharchives #2019-09-24\n",
    "    \n",
    "&nbsp;"
   ]
  },
  {
   "cell_type": "markdown",
   "metadata": {},
   "source": [
    "**Paul Krugman: Hangover Theorists**: From the past. Worth highlighting. Why? Because when the nest recession comes, the usual suspects will once gain start claiming the the should not do anything to shorten or cushion it. And the usual suspects will once again be wrong: \n",
    "\n",
    "**Paul Krugman** (2008): _[Hangover Theorists](https://krugman.blogs.nytimes.com/2008/12/27/hangover-theorists/)_: \"Somehow I missed this: via Steve Levitt, John Cochrane explaining that recessions are _good_ for you.... The basic idea is that a recession, even a depression, is somehow a necessary thing, part of the process of 'adapting the structure of production'. We have to get those people who were pounding nails in Nevada into other places and occupation, which is why unemployment has to be high in the housing bubble states for a while. The trouble... is twofold: 1. It doesn’t explain why there isn’t mass unemployment when bubbles are growing as well as shrinking—why didn’t we need high unemployment elsewhere to get those people into the nail-pounding-in-Nevada business? 2. It doesn’t explain why recessions reduce unemployment across the board, not just in industries that were bloated by a bubble.... The current slump is affecting some non-housing-bubble states as or more severely as the epicenters of the bubble.... Unemployment is up everywhere. And while the centers of the bubble, Florida and California, are high in the rankings, so are Georgia, Alabama, and the Carolinas. So the liquidationists are still with us. According to Brad DeLong, 'Milton Friedman would recall that at the Chicago where he went to graduate school such dangerous nonsense was not taught...' But now, apparently, it is. **Update**: Not to mention the idea that employment is dropping because workers don’t feel like working...\n",
    "\n",
    "    #noted #2019-09-20\n",
    "    \n",
    "&nbsp;"
   ]
  },
  {
   "cell_type": "markdown",
   "metadata": {},
   "source": [
    "**Felipe Benguria and Alan M. Taylor: After the Panic: Are Financial Crises Demand or Supply Shocks?**: I never understood why so many people were desperate to interpret financial crises as things that destroyed firms' abilities to produce rather than things that made people want to hoard their cash. Yes, a numbers of firms are short of cash and need trade credit. But most healthy firms do not: \n",
    "\n",
    "**Felipe Benguria and Alan M. Taylor**: _[After the Panic: Are Financial Crises Demand or Supply Shocks? Evidence from International Trade](https://www.nber.org/papers/w25790)_: \"Are financial crises a negative shock to demand or a negative shock to supply?... Arguments for monetary and fiscal stimulus usually interpret such events as demand-side shortfalls. Conversely, arguments for tax cuts and structural reform often proceed from supply-side frictions.... simple small open economy... deleveraging shocks that impose binding credit constraints on households and/or firms.... Household deleveraging shocks are mainly demand shocks, contract imports, leave exports largely unchanged, and depreciate the real exchange rate. Firm deleveraging shocks are mainly supply shocks, contract exports, leave imports largely unchanged, and appreciate the real exchange rate.... Empirical analysis reveals a clear picture: after a financial crisis event we find the dominant pattern to be that imports contract, exports hold steady or even rise, and the real exchange rate depreciates. History shows that, on average, financial crises are very clearly a negative shock to demand...\n",
    "\n",
    "    #noted #2019-09-20\n",
    "    \n",
    "&nbsp;"
   ]
  },
  {
   "cell_type": "markdown",
   "metadata": {},
   "source": [
    "**Weekend Reading: Charles Kindleberger**: _[Anatomy of a Typical Financial Crisis](https://www.bradford-delong.com/2009/01/charles-kindleberger-anatomy-of-a-typical-financial-crisis.html?asset_id=6a00e551f080038834010536ad8b18970c)_: From Charlie Kindleberger, A Financial History of Western Europe:\n",
    "\n",
    ">p. 90 ff: No discretion was allowed in the issuance of bank notes, however.... Sir Robert Peel, the Prime Minister, first contemplated allowing a relaxing power in the 1844 legislation, but ultimately decided against it.... Peel protected himself... in a letter from Windsor Castle, written on 4 June 1844: \"My confidence is unshaken that we have taken all the precautions which legislation can prudently take against a recurrence of a pecuniary crisis. It may occur in spite of our precautions; and if it does and if it be necessary to assume a grave responsibility, I dare say men will be found willing to assume such a responsibility (BPP 1847 [1969], Vol. 2, p. xxix)\"...\n",
    "\n",
    ">The difficulty in making the note issue inelastic... is that it became inelastic at all times, when the requirement in an internal financial crisis is that money be freely available...\n",
    "\n",
    ">The Bank of England came to the rescue of the South Sea Company... belatedly, and at a punishing price... to dispose of a dangerous rival. Its recognition of its responsibilities in preventing, or at least mitigating, financial crisis in the public interest took more time. There was a lag in understanding the need to have the money supply inelastic in the long run but elastic in the short. A further question was whose task it was to serve as lender of last resort...<!--more-->\n",
    "\n",
    ">Thomas Ashton has stated that... the Bank of England was already the lender of last resort in the eighteenth century.... It is true that the Bank of England was pressured... but its response was, on the whole, reluctant and defensive.... The Bank occasionally took steps that increased the public's fear... 1745... 1772... 1782... 1793...\n",
    "\n",
    ">Critical debate over who should act as lender of last resort... took place behind closed doors in December 1825.... [Chancellor] Lord Liverpool, having warned the market... that the speculators were going too far and that the government would not save them... threatened to resign if Exchequer bills were provided.... The emergency required action by someone.... Lord Liverpool... applied enormous pressure on the Bank to force it to issue special advances to merchants against inventories...\n",
    "\n",
    ">The lender of last resort function reached full flower under the Bank Act of 1844. 'Overtrading' which Adam Smith held to be the cause of financial crises—which were in his lexicon 'revulsion' and 'discredit'—produced incidents in 1847, 1857, and 1866.... [M]en of responsibility, as foreseen by Sir Robert Peel, figured out a way to suspend the Bank Act.... [T]he Chancellor of the Exchequer issued a letter to the Bank of England...\n",
    "\n",
    ">p. 270 ff: The macroeconomic system receives some shock—caused by Hyman Minsky, who virtually alone of modern economists is interested in financial instability, a 'displacement' (1982). This displacement can be monetary or real... changes expectations... with respect to the profitability of some range of investments.... [I]t can happen, and historically has happened, that the sum total of all the people reacting to the opportunity is excessive... credit is extended... stimulates business... credit is extended further... euphoria... speculation... more pervasive credit expansion...\n",
    "\n",
    ">Time and time again in these pages it has been stressed that when the macroeconomic system is constrained by a tight supply of money, it creates more, at least for a time... bank money, bank notes, bills of exchange, especially chains of bills of exchange, bank deposits, open-book credits, credit cards, certificates of deposit, euro-currencies, and so one...\n",
    "\n",
    ">At some stage... it becomes clear to a few, and then to more, that... positions are extended beyond some limit sustainable in the long run, and that the maintenance of capital gains depends on getting out of assets rising in price ahead of others.... More and more speculators seek to get out of whatever was the object of speculation, to reduce their distended liabilities, and switch into money; and more and more it becomes cleer that not everyone can do so at once. There is a rush, a panic, and a crash—or perhaps the lender of last resort intervenes to make clear it will furnish the market with all the cash it insists it requires. In this circumstance, perhaps belatedly, panic and distress subside...\n",
    "\n",
    ">Historically, the burden of proof runs against a theorist who says that destabilizing speculation is impossible when the record shows displacement, euphoria, distress, panic, and crisis occurring decade after decade, century after century, and noted by such classical observers as Adam Smith in the eighteenth century and Lord Overstone in the nineteenth, quoted with approval by Walter Bagehot (1852 [1978], Vol. 9, p. 273).... Bagehot adds: \"Common sense teaches that booksellers should not speculate in hops, or bankers in turpentine; that railways should not be promoted by maiden ladies, or canals by beneficed clergymen... in the name of common sense, let there by common sense (1852 [1978], Vol. 9, p. 275).\" But history demonstrates that common sense in these questions is uncommon, at least at ten-year intervals....\n",
    "\n",
    ">Whether there is a theoretical rationale for letting the market find its way out of a panic or not, the historical fact is that panics that have been met most successfully almost invariably found some source of cash to ease the liquidation of assets before prices fell to ruinous levels. An important question is who has responsibility to provide that cash...\n",
    "\n",
    ">The lender of last resort role is riddled with... ambiguity, verging on duplicity. One must promise not to rescue banks and merchant houses that get into trouble, in order to force them to take responsibility for their behavior, and then rescue them when, and if, they do get into trouble for otherwise trouble might spread...\n",
    "\n",
    ">The central bank presumably seeks to follow rules of helping only sound houses with good paper. The dilemma is that if it holds off too long, what had been good paper becomes bad.... Lending to sound houses introduces a note of discretion and judgment... questions of insider-outsider, favoritism, and prejudice.... [T]here are bound to be questions raised as to whether the Establishment took care of its own and rejected the outsiders and pushy upstarts...\n",
    "\n",
    "    #weekendreading #finance #financialcrises #economicsgoneright #2019-09-13\n",
    "    \n",
    "&nbsp;"
   ]
  }
 ],
 "metadata": {
  "kernelspec": {
   "display_name": "Python 3",
   "language": "python",
   "name": "python3"
  },
  "language_info": {
   "codemirror_mode": {
    "name": "ipython",
    "version": 3
   },
   "file_extension": ".py",
   "mimetype": "text/x-python",
   "name": "python",
   "nbconvert_exporter": "python",
   "pygments_lexer": "ipython3",
   "version": "3.6.7"
  }
 },
 "nbformat": 4,
 "nbformat_minor": 4
}

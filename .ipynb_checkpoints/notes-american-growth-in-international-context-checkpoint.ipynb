{
 "cells": [
  {
   "cell_type": "markdown",
   "metadata": {},
   "source": [
    "# American Growth in International Context"
   ]
  },
  {
   "cell_type": "code",
   "execution_count": 5,
   "metadata": {},
   "outputs": [
    {
     "name": "stdout",
     "output_type": "stream",
     "text": [
      "      Year  America  Britain  Germany  Argentina  Australia\n",
      "1800  1800     2130     3430     1640       1510        814\n",
      "1870  1870     4060     6040     2820       3070       5430\n",
      "1950  1950    15300    11200     7230       8320      12200\n",
      "2018  2018    54900    40100    44600      18900      45800\n",
      " \n",
      " \n",
      "            America   Britain   Germany  Argentina  Australia\n",
      "1800-1870  0.009215  0.008083  0.007743   0.010137   0.027110\n",
      "1870-1950  0.016583  0.007719  0.011769   0.012462   0.010119\n",
      "1950-2018  0.018789  0.018757  0.026757   0.012066   0.019454\n",
      " \n",
      " \n"
     ]
    }
   ],
   "source": [
    "import numpy as np\n",
    "import pandas as pd\n",
    "\n",
    "# real gdp per capita estimates for america and its\n",
    "# benchmark countries\n",
    "\n",
    "y1800 = [1800, 2130, 3430, 1640, 1510, 814]\n",
    "y1870 = [1870, 4060, 6040, 2820, 3070, 5430]\n",
    "y1950 = [1950, 15300, 11200, 7230, 8320, 12200]\n",
    "y2018 = [2018, 54900, 40100, 44600, 18900, 45800]\n",
    "\n",
    "benchmark_countries = [y1800, y1870, y1950, y2018]\n",
    "\n",
    "df_bench_levels = pd.DataFrame(benchmark_countries, columns= [\n",
    "   'Year', 'America', 'Britain', 'Germany', 'Argentina', \n",
    "    'Australia'], index = [1800, 1870, 1950, 2018])\n",
    "\n",
    "print(df_bench_levels)\n",
    "print(' ')\n",
    "print(' ')\n",
    "\n",
    "gr_dates = ['1800-70', '1870-1950', '1950-2018']\n",
    "\n",
    "gr_america = [np.log(4060/2130)/70, \n",
    "              np.log(15300/4060)/80,\n",
    "              np.log(54900/15300)/68]\n",
    "\n",
    "gr_britain = [np.log(6040/3430)/70, \n",
    "              np.log(11200/6040)/80,\n",
    "              np.log(40100/11200)/68]\n",
    "\n",
    "gr_germany = [np.log(2820/1640)/70, \n",
    "              np.log(7230/2820)/80,\n",
    "              np.log(44600/7230)/68]\n",
    "\n",
    "gr_argentina = [np.log(3070/1510)/70, \n",
    "                np.log(8320/3070)/80,\n",
    "                np.log(18900/8320)/68]\n",
    "\n",
    "gr_australia = [np.log(5430/814)/70, \n",
    "                np.log(12200/5430)/80,\n",
    "                np.log(45800/12200)/68]\n",
    "\n",
    "benchmark_gr = [gr_america, gr_britain, gr_germany, gr_argentina, gr_australia]\n",
    "\n",
    "df_b = pd.DataFrame(benchmark_gr)\n",
    "\n",
    "df_bench_growth = df_b.transpose()\n",
    "df_bench_growth.columns = ['America', 'Britain',\n",
    "    'Germany', 'Argentina', 'Australia']\n",
    "df_bench_growth.index = ['1800-1870', '1870-1950', '1950-2018']\n",
    "\n",
    "\n",
    "print(df_bench_growth)\n",
    "print(' ')\n",
    "print(' ')"
   ]
  },
  {
   "cell_type": "code",
   "execution_count": null,
   "metadata": {},
   "outputs": [],
   "source": []
  }
 ],
 "metadata": {
  "kernelspec": {
   "display_name": "Python 3",
   "language": "python",
   "name": "python3"
  },
  "language_info": {
   "codemirror_mode": {
    "name": "ipython",
    "version": 3
   },
   "file_extension": ".py",
   "mimetype": "text/x-python",
   "name": "python",
   "nbconvert_exporter": "python",
   "pygments_lexer": "ipython3",
   "version": "3.7.4"
  }
 },
 "nbformat": 4,
 "nbformat_minor": 4
}

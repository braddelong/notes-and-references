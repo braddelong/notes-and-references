{
 "cells": [
  {
   "cell_type": "markdown",
   "metadata": {},
   "source": [
    "### <font color=\"880000\"> Notes: Weblogging </font>\n",
    "\n",
    "**John Scalzi**: _[21 Years of Whatever](https://whatever.scalzi.com/2019/09/13/21-years/)_: \"Whatever exists today for the same reason it began existing 21 years ago, which is, I wanted a place to write about things. The formula hasn’t really wavered in all that time; I write about the things I want to write about, when I want to write about them, for whatever length I feel like writing about them for. Sometimes I’m ambitious and post several times a day; other times I’ll post once a day and sometimes skip a day or two (or more). When I’m writing a book, I tend to post less. When I’m not, I’ll post more. I don’t take requests, unless I do. And so on. Also, you know: I write here because I just plain like this site. This is, in more ways than one, my house and a reflection of me. I like how I’ve built it over the years and I like what it does. I like I have a place to say what I want to say. I like that I have a place where others occasionally come by to visit. I like that those people seem to like it too. So, I’ll keep at it some more. Let’s see what happens from here....\n",
    "\n",
    "    #noted #weblogging #weblogs #2019-09-27\n",
    "\n",
    "&nbsp;"
   ]
  },
  {
   "cell_type": "markdown",
   "metadata": {},
   "source": [
    "**David Frum**: _[\"Years later, I wrote of the George W. Bush administration](https://twitter.com/davidfrum/status/1171767068171100160)_: 'The Bush administration opened with a second Pearl Harbor, ended with a second Great Crash and contained a second Vietnam in the middle'. My own role in the administration was both brief and modest.... Yet because the administration is so widely perceived as unsuccessful, it feels cowardly to remark this truth, as if I were looking for some kind of personal exit. I came away from my Bush experiences with two resolutions : 1) Never to let any group do any iota of my thinking for me. If I lacked the expertise to think something through for myself, then I wouldn't have an opinion about it at all. 2) To devote more of my own personal political thinking to the question of what citizens of a modern nation owe each other. Which is why the headline that is on my mind this day pertains not to the past, but to the present.... Inevitably, the impress of 9/11 must fade. My youngest daughter was born a month afterward.... Her generation will have its own memorial days. We can't bequeath our memories to them, and it would be oppressive if we could. Instead, let's bequeath them a better country, where fewer die by the gun and more have care when they need it...\n",
    "\n",
    "    #noted #2019-09-23\n",
    "    \n",
    "&nbsp;"
   ]
  },
  {
   "cell_type": "markdown",
   "metadata": {},
   "source": [
    "**Shira Ovide: Lies-as-a-Service**: \"I admit that I don't know what Twitter or Facebook should do in dealing with potentially harmful propaganda from Chinese officials, or anyone else. Should Facebook, for example, declare that Philippines President Rodrigo Duterte shouldn't be allowed to have an account because he or his allies use the social network to launch vicious online attacks against critics? Should Twitter label incendiary tweets from anti-immigrant political parties in Italy as abusive behavior, as they have (sort of) sought to do with Donald Trump? Should the companies have different rules about the hand-holding they provide to prominent people, depending on whether they're a member of the Kardashian family or a Chinese diplomat? It's tricky, and I'm not suggesting there are easy answers. But what [Shelly and Sarah](https://www.bloomberg.com/news/articles/2019-08-21/twitter-helps-china-push-agenda-abroad-despite-ban-in-mainland) wrote about gets to the heart of the contradiction in social media companies' approach to potentially harmful or outright false information. They want to be the go-to sources of information online, but they don't want to be arbiters of what's true.... Nor do they believe it's practical to fact-check the billions of tweets and Facebook posts.... Twitter's approach with these Chinese officials, and that of Facebook in places such as the Philippines, seem to be that potentially harmful state-backed propaganda can be fine, unless those state-linked actors are spreading the propaganda with accounts pretending to be someone else. In that approach, the veracity of the information isn't what matters, nor the harm it causes. What matters is the veracity of the identity of the accounts behind that information. That is a tough line to walk...\n",
    "\n",
    "    #noted #2019-09-23\n",
    "    \n",
    "&nbsp;"
   ]
  }
 ],
 "metadata": {
  "kernelspec": {
   "display_name": "Python 3",
   "language": "python",
   "name": "python3"
  },
  "language_info": {
   "codemirror_mode": {
    "name": "ipython",
    "version": 3
   },
   "file_extension": ".py",
   "mimetype": "text/x-python",
   "name": "python",
   "nbconvert_exporter": "python",
   "pygments_lexer": "ipython3",
   "version": "3.6.7"
  }
 },
 "nbformat": 4,
 "nbformat_minor": 4
}

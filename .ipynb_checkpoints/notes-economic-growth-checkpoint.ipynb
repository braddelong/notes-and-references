{
 "cells": [
  {
   "cell_type": "markdown",
   "metadata": {},
   "source": [
    "### <font color=\"880000\"> Notes: Economic Growth </font>"
   ]
  },
  {
   "cell_type": "markdown",
   "metadata": {},
   "source": [
    "**Doug Jones**: _The World at 1000 BCE_ <https://www.bradford-delong.com/2019/10/the-world-at-1000-bce-logarithmic-history.html>: \" <https://logarithmichistory.wordpress.com/2019/10/01/the-world-at-1000-bce-5/>: \"The world population is about 50 million. The Bantu expansion is just beginning, from a homeland on the present Nigeria/Cameroon border. It will eventually cover most of Africa south of the equator.... Seafarers with roots in the Lapita culture have already reached Western Polynesian.... The Olmec are flourishing in Meso-America.... In China, the Mandate of Heaven has passed from the Shang Dynasty to the Zhou. In the Near East and Eastern Mediterranean, the Late Bronze Age collapse has opened up space for smaller states. Tyre and other Phoenician city-states are sailing the Mediterranean. Phoenicians are using an alphabet that Greeks will eventually adapt.... Further south, Philistines and Israelites have been duking it out, with Israelites gaining the upper hand under David* (king from 1010 to 970 BCE). The Iron Age conventionally begins now.... On the steppe, horses have long been domesticated, but people are now learning to make effective use of cavalry–fighting in formation and firing volleys from horseback. This is the beginning of 2500 years in which the division between Steppe and Sown will be central to Eurasian history...\n",
    "\n",
    "    #2019-10-05 #ancient #economicgrowth #economichistory\n",
    "\n",
    "&nbsp;"
   ]
  },
  {
   "cell_type": "markdown",
   "metadata": {},
   "source": [
    "**Oded Galor, Omer Moav, and Dietrich Vollrath** (2009): _Inequality in Landownership, the Emergence of Human-Capital Promoting Institutions, and the Great Divergence_ <https://delong.typepad.com/land-inequality.pdf>: \"Inequality in the distribution of landownership adversely affected the emergence of human-capital promoting institutions (e.g. public schooling), and thus the pace and the nature of the transition from an agricultural to an industrial economy, contributing to the emergence of the great divergence in income per capita across countries. The prediction of the theory regarding the adverse effect of the concentration of landownership on education expenditure is established empirically based on evidence from the beginning of the 20th century in the U.S...\n",
    "\n",
    ">* Land-abundant countries that were characterized by an unequal distribution of land were overtaken in the process of industrialization by land-scarce countries in which land distribution was rather equal...\n",
    ">* As long as landowners affect the political process and thereby the implementation of education reforms, inequality in the distribution of landownership is a hurdle for human-capital accumulation, slowing the process of industrialization and the transition to modern growth...\n",
    "\n",
    "    #noted #2019-09-28\n",
    "    \n",
    "&nbsp;"
   ]
  },
  {
   "cell_type": "markdown",
   "metadata": {},
   "source": [
    "**Doug Jones**: _The Patriarchal Age_ <https://logarithmichistory.wordpress.com/2019/09/27/the-patriarchal-age-5/>: \"The left panel shows effective population sizes based on Y chromosome DNA, transmitted down the male line. The right panel shows effective population sizes based mitochondrial DNA, transmitted down the female line. The dramatic dip on the left panel, where effective population sizes go way down in the last ten thousand years, means that there was a period, from the initial spread of major language families to near the dawn of history, where just a few men were leaving lots of descendants in the male line. This must reflect a time when polygyny – some men taking multiple wives, others not reproducing at all – was common. But this pattern probably reflects more than just polygyny. It probably also reflects a continuing advantage, carried over many generations, for some male lines of descent. In other words, back in the day, not just did Lord Y (or whoever) have many wives and many sons, but his sons, his sons’ sons. his son’s son’s sons, and so on, had many offspring. This probably implies some kind of long-term social memory, such that that the “Sons of Y” or the “House of Y” had a privileged position for many generations.... Eurasian history is often told as the story the rise of states and empires. But it’s also the story of the rise of patrilineal descent groups (and the heavy policing of female sexuality to make sure of paternity in the male line)...\n",
    "\n",
    "<img style=\"display:block; margin-left:auto; margin-right:auto;\" src=\"https://delong.typepad.com/.a/6a00e551f0800388340240a4b41370200d-pi\" alt=\"Patriarchy jpg 582×248 pixels\" title=\"patriarchy_jpg_582×248_pixels.png\" border=\"0\" width=\"498\" height=\"232\" />\n",
    "\n",
    "**Monika Karmin _et al._**: _A Recent Bottleneck of Y Chromosome Diversity Coincides with a Global Change in Culture_ <https://bib.irb.hr/datoteka/715300.2015_Genome_Res._Karmin-A_recent_bottleneck_of_Y_chromosome_diversity.pdf>:\n",
    "\n",
    "* _Supplemental Material_ <https://genome.cshlp.org/content/suppl/2015/02/18/gr.186684.114.DC1.html>\n",
    "\n",
    "<img style=\"display:block; margin-left:auto; margin-right:auto;\" src=\"https://delong.typepad.com/.a/6a00e551f0800388340240a4d8a0c8200b-pi\" alt=\"Https genome cshlp org content suppl 2015 02 18 gr 186684 114 DC1 Supplemental Figures pdf\" title=\"https___genome_cshlp_org_content_suppl_2015_02_18_gr_186684_114_DC1_Supplemental_Figures_pdf.png\" border=\"0\" width=\"500\" />\n",
    "\n",
    "<img style=\"display:block; margin-left:auto; margin-right:auto;\" src=\"https://delong.typepad.com/.a/6a00e551f0800388340240a4d8a0d3200b-pi\" alt=\"Https genome cshlp org content suppl 2015 02 18 gr 186684 114 DC1 Supplemental Figures pdf\" title=\"https___genome_cshlp_org_content_suppl_2015_02_18_gr_186684_114_DC1_Supplemental_Figures_pdf.png\" border=\"0\" width=\"499\" height=\"471\" />\n",
    "\n",
    "<img style=\"display:block; margin-left:auto; margin-right:auto;\" src=\"https://delong.typepad.com/.a/6a00e551f0800388340240a4b413c0200d-pi\" alt=\"Https genome cshlp org content suppl 2015 02 18 gr 186684 114 DC1 Supplemental Figures pdf\" title=\"https___genome_cshlp_org_content_suppl_2015_02_18_gr_186684_114_DC1_Supplemental_Figures_pdf.png\" border=\"0\" width=\"359\" height=\"500\" />\n",
    "\n",
    "    #noted #2019-10-06\n",
    "    \n",
    "&nbsp;"
   ]
  },
  {
   "cell_type": "markdown",
   "metadata": {},
   "source": [
    "**Gregory Clark**: _The Secret History of the Industrial Revolution_ <http://faculty.econ.ucdavis.edu/faculty/gclark/papers/secret2001.pdf>\n",
    "\n",
    "Clark, Gregory. 2007. _A Farewell to Alms: A Brief Economic History of the World_. Princeton: Princeton University Press.\n",
    "\n",
    "&nbsp;"
   ]
  },
  {
   "cell_type": "markdown",
   "metadata": {},
   "source": [
    "**Gregory Clark**: _The Industrial Revolution_ <http://faculty.econ.ucdavis.edu/faculty/gclark/papers/HEG%20-%20final%20draft.pdf>: \"The Industrial Revolution decisively changed economy wide productivity growth rates. For successful economies, measured efficiency growth rates increased from close to zero to close to 1% per year in the blink of an eye, in terms of the long history of humanity, seemingly within 50 years of 1800 in England. Yet the Industrial Revolution has defied simple economic explanations or modeling. This paper seeks to set out the empirical parameters of the Industrial Revolution that any economic theory must encompass, and illustrate why this makes explaining the Industrial Revolution so difficult within the context of standard economic models and narratives...\n",
    "\n",
    "&nbsp;"
   ]
  },
  {
   "cell_type": "markdown",
   "metadata": {},
   "source": [
    "**Robert C. Allen** (2008): _A Review of Gregory Clark’s\n",
    "A Farewell to Alms: A Brief Economic History of the World_ <http://faculty.econ.ucdavis.edu/faculty/gclark/Farewell%20to%20Alms/Allen_JEL_Review.pdf>: \"A Farewell to Alms advances striking claims about the economic history of the world. These include (1) the preindustrial world was in a Malthusian preventive check equi- librium, (2) living standards were unchanging and above subsistence for the last 100,000 years, (3) bad institutions were not the cause of economic backwardness, (4) successful economic growth was due to the spread of “middle class” values from the elite to the rest of society for “biological” reasons, (5) workers were the big gainers in the British Industrial Revolution, and (6) the absence of middle class values, for biological reasons, explains why most of the world is poor. The empirical support for these claims is examined, and all are questionable...\n",
    "\n",
    "&nbsp;"
   ]
  },
  {
   "cell_type": "markdown",
   "metadata": {},
   "source": [
    "**Michael Kremer** (1993: _Population Growth and Technological Change: One Million B.C. to 1990_ <https://www.jstor.org/stable/2118405?seq=1#page_scan_tab_contents>\n",
    "\n",
    "&nbsp;"
   ]
  }
 ],
 "metadata": {
  "kernelspec": {
   "display_name": "Python 3",
   "language": "python",
   "name": "python3"
  },
  "language_info": {
   "codemirror_mode": {
    "name": "ipython",
    "version": 3
   },
   "file_extension": ".py",
   "mimetype": "text/x-python",
   "name": "python",
   "nbconvert_exporter": "python",
   "pygments_lexer": "ipython3",
   "version": "3.6.7"
  }
 },
 "nbformat": 4,
 "nbformat_minor": 4
}

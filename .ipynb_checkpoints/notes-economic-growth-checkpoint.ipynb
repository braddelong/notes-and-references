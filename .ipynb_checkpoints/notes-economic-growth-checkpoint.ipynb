{
 "cells": [
  {
   "cell_type": "markdown",
   "metadata": {},
   "source": [
    "### <font color=\"880000\"> Notes: Economic Growth </font>"
   ]
  },
  {
   "cell_type": "markdown",
   "metadata": {},
   "source": [
    "**Doug Jones**: _The World at 1000 BCE_ <https://www.bradford-delong.com/2019/10/the-world-at-1000-bce-logarithmic-history.html>: \" <https://logarithmichistory.wordpress.com/2019/10/01/the-world-at-1000-bce-5/>: \"The world population is about 50 million. The Bantu expansion is just beginning, from a homeland on the present Nigeria/Cameroon border. It will eventually cover most of Africa south of the equator.... Seafarers with roots in the Lapita culture have already reached Western Polynesian.... The Olmec are flourishing in Meso-America.... In China, the Mandate of Heaven has passed from the Shang Dynasty to the Zhou. In the Near East and Eastern Mediterranean, the Late Bronze Age collapse has opened up space for smaller states. Tyre and other Phoenician city-states are sailing the Mediterranean. Phoenicians are using an alphabet that Greeks will eventually adapt.... Further south, Philistines and Israelites have been duking it out, with Israelites gaining the upper hand under David* (king from 1010 to 970 BCE). The Iron Age conventionally begins now.... On the steppe, horses have long been domesticated, but people are now learning to make effective use of cavalry–fighting in formation and firing volleys from horseback. This is the beginning of 2500 years in which the division between Steppe and Sown will be central to Eurasian history...\n",
    "\n",
    "    #2019-10-05 #ancient #economicgrowth #economichistory\n",
    "\n",
    "&nbsp;"
   ]
  },
  {
   "cell_type": "markdown",
   "metadata": {},
   "source": [
    "**Oded Galor, Omer Moav, and Dietrich Vollrath** (2009): _Inequality in Landownership, the Emergence of Human-Capital Promoting Institutions, and the Great Divergence_ <https://delong.typepad.com/land-inequality.pdf>: \"Inequality in the distribution of landownership adversely affected the emergence of human-capital promoting institutions (e.g. public schooling), and thus the pace and the nature of the transition from an agricultural to an industrial economy, contributing to the emergence of the great divergence in income per capita across countries. The prediction of the theory regarding the adverse effect of the concentration of landownership on education expenditure is established empirically based on evidence from the beginning of the 20th century in the U.S...\n",
    "\n",
    ">* Land-abundant countries that were characterized by an unequal distribution of land were overtaken in the process of industrialization by land-scarce countries in which land distribution was rather equal...\n",
    ">* As long as landowners affect the political process and thereby the implementation of education reforms, inequality in the distribution of landownership is a hurdle for human-capital accumulation, slowing the process of industrialization and the transition to modern growth...\n",
    "\n",
    "    #noted #2019-09-28\n",
    "    \n",
    "&nbsp;"
   ]
  },
  {
   "cell_type": "markdown",
   "metadata": {},
   "source": [
    "**Doug Jones**: _The Patriarchal Age_ <https://logarithmichistory.wordpress.com/2019/09/27/the-patriarchal-age-5/>: \"The left panel shows effective population sizes based on Y chromosome DNA, transmitted down the male line. The right panel shows effective population sizes based mitochondrial DNA, transmitted down the female line. The dramatic dip on the left panel, where effective population sizes go way down in the last ten thousand years, means that there was a period, from the initial spread of major language families to near the dawn of history, where just a few men were leaving lots of descendants in the male line. This must reflect a time when polygyny – some men taking multiple wives, others not reproducing at all – was common. But this pattern probably reflects more than just polygyny. It probably also reflects a continuing advantage, carried over many generations, for some male lines of descent. In other words, back in the day, not just did Lord Y (or whoever) have many wives and many sons, but his sons, his sons’ sons. his son’s son’s sons, and so on, had many offspring. This probably implies some kind of long-term social memory, such that that the “Sons of Y” or the “House of Y” had a privileged position for many generations.... Eurasian history is often told as the story the rise of states and empires. But it’s also the story of the rise of patrilineal descent groups (and the heavy policing of female sexuality to make sure of paternity in the male line)...\n",
    "\n",
    "<img style=\"display:block; margin-left:auto; margin-right:auto;\" src=\"https://delong.typepad.com/.a/6a00e551f0800388340240a4b41370200d-pi\" alt=\"Patriarchy jpg 582×248 pixels\" title=\"patriarchy_jpg_582×248_pixels.png\" border=\"0\" width=\"498\" height=\"232\" />\n",
    "\n",
    "**Monika Karmin _et al._**: _A Recent Bottleneck of Y Chromosome Diversity Coincides with a Global Change in Culture_ <https://bib.irb.hr/datoteka/715300.2015_Genome_Res._Karmin-A_recent_bottleneck_of_Y_chromosome_diversity.pdf>:\n",
    "\n",
    "* _Supplemental Material_ <https://genome.cshlp.org/content/suppl/2015/02/18/gr.186684.114.DC1.html>\n",
    "\n",
    "<img style=\"display:block; margin-left:auto; margin-right:auto;\" src=\"https://delong.typepad.com/.a/6a00e551f0800388340240a4d8a0c8200b-pi\" alt=\"Https genome cshlp org content suppl 2015 02 18 gr 186684 114 DC1 Supplemental Figures pdf\" title=\"https___genome_cshlp_org_content_suppl_2015_02_18_gr_186684_114_DC1_Supplemental_Figures_pdf.png\" border=\"0\" width=\"500\" />\n",
    "\n",
    "<img style=\"display:block; margin-left:auto; margin-right:auto;\" src=\"https://delong.typepad.com/.a/6a00e551f0800388340240a4d8a0d3200b-pi\" alt=\"Https genome cshlp org content suppl 2015 02 18 gr 186684 114 DC1 Supplemental Figures pdf\" title=\"https___genome_cshlp_org_content_suppl_2015_02_18_gr_186684_114_DC1_Supplemental_Figures_pdf.png\" border=\"0\" width=\"499\" height=\"471\" />\n",
    "\n",
    "<img style=\"display:block; margin-left:auto; margin-right:auto;\" src=\"https://delong.typepad.com/.a/6a00e551f0800388340240a4b413c0200d-pi\" alt=\"Https genome cshlp org content suppl 2015 02 18 gr 186684 114 DC1 Supplemental Figures pdf\" title=\"https___genome_cshlp_org_content_suppl_2015_02_18_gr_186684_114_DC1_Supplemental_Figures_pdf.png\" border=\"0\" width=\"359\" height=\"500\" />\n",
    "\n",
    "    #noted #2019-10-06\n",
    "    \n",
    "&nbsp;"
   ]
  },
  {
   "cell_type": "markdown",
   "metadata": {},
   "source": [
    "**Gregory Clark**: _The Secret History of the Industrial Revolution_ <http://faculty.econ.ucdavis.edu/faculty/gclark/papers/secret2001.pdf>\n",
    "\n",
    "Clark, Gregory. 2007. _A Farewell to Alms: A Brief Economic History of the World_. Princeton: Princeton University Press.\n",
    "\n",
    "&nbsp;"
   ]
  },
  {
   "cell_type": "markdown",
   "metadata": {},
   "source": [
    "**Gregory Clark**: _The Industrial Revolution_ <http://faculty.econ.ucdavis.edu/faculty/gclark/papers/HEG%20-%20final%20draft.pdf>: \"The Industrial Revolution decisively changed economy wide productivity growth rates. For successful economies, measured efficiency growth rates increased from close to zero to close to 1% per year in the blink of an eye, in terms of the long history of humanity, seemingly within 50 years of 1800 in England. Yet the Industrial Revolution has defied simple economic explanations or modeling. This paper seeks to set out the empirical parameters of the Industrial Revolution that any economic theory must encompass, and illustrate why this makes explaining the Industrial Revolution so difficult within the context of standard economic models and narratives...\n",
    "\n",
    "&nbsp;"
   ]
  },
  {
   "cell_type": "markdown",
   "metadata": {},
   "source": [
    "**Robert C. Allen** (2008): _A Review of Gregory Clark’s\n",
    "A Farewell to Alms: A Brief Economic History of the World_ <http://faculty.econ.ucdavis.edu/faculty/gclark/Farewell%20to%20Alms/Allen_JEL_Review.pdf>: \"A Farewell to Alms advances striking claims about the economic history of the world. These include (1) the preindustrial world was in a Malthusian preventive check equi- librium, (2) living standards were unchanging and above subsistence for the last 100,000 years, (3) bad institutions were not the cause of economic backwardness, (4) successful economic growth was due to the spread of “middle class” values from the elite to the rest of society for “biological” reasons, (5) workers were the big gainers in the British Industrial Revolution, and (6) the absence of middle class values, for biological reasons, explains why most of the world is poor. The empirical support for these claims is examined, and all are questionable...\n",
    "\n",
    "&nbsp;"
   ]
  },
  {
   "cell_type": "markdown",
   "metadata": {},
   "source": [
    "**Michael Kremer** (1993: _Population Growth and Technological Change: One Million B.C. to 1990_ <https://www.jstor.org/stable/2118405?seq=1#page_scan_tab_contents>\n",
    "\n",
    "&nbsp;"
   ]
  },
  {
   "cell_type": "markdown",
   "metadata": {},
   "source": [
    "**Wikipedia**: _Ötzi the Iceman_ <https://en.wikipedia.org/wiki/%C3%96tzi>: \"Born near the present village of Feldthurns (Velturno), north of Bolzano, Italy. Died c. 3300 BCE (aged about 45) Ötztal Alps, near Hauslabjoch on the border between Austria and Italy.... Currently, it is believed that Ötzi bled to death after the arrow shattered the scapula and damaged nerves and blood vessels before lodging near the lung..... Ötzi was 160 centimetres (5 ft 3 in) tall, weighed about 50 kilograms (110 lb), and was about 45 years of age.... Analysis of pollen, dust grains and the isotopic composition of his tooth enamel indicates that he spent his childhood near the present village of Feldthurns, north of Bolzano, but later went to live in valleys about 50 kilometres farther north...<!--more-->\n",
    "\n",
    ">...Partly digested remains of ibex meat, confirmed by DNA analysis, suggesting he had a meal less than two hours before his death. Wheat grains were also found. It is believed that Ötzi most likely had a few slices of a dried, fatty meat, probably bacon, which came from a wild goat in South Tyrol, Italy. Analysis of Ötzi's intestinal contents showed two meals (the last one consumed about eight hours before his death), one of chamois meat, the other of red deer and herb bread; both were eaten with roots and fruits. The grain also eaten with both meals was a highly processed einkorn wheat bran, quite possibly eaten in the form of bread. In the proximity of the body, and thus possibly originating from the Iceman's provisions, chaff and grains of einkorn and barley, and seeds of flax and poppy were discovered, as well as kernels of sloes (small plum-like fruits of the blackthorn tree) and various seeds of berries growing in the wild.[18] Hair analysis was used to examine his diet from several months before....\n",
    "\n",
    ">High levels of both copper particles and arsenic were found in Ötzi's hair. This, along with Ötzi's copper axe blade, which is 99.7% pure copper, has led scientists to speculate that Ötzi was involved in copper smelting.... Ötzi's lifestyle included long walks over hilly terrain. This degree of mobility is not characteristic of other Copper Age Europeans. Ruff proposes that this may indicate that Ötzi was a high-altitude shepherd.... Ötzi apparently had whipworm (Trichuris trichiura).... Ötzi's teeth showed considerable internal deterioration from cavities. These oral pathologies may have been brought about by his grain-heavy, high carbohydrate diet.... Ötzi was lactose intolerant....\n",
    "\n",
    ">Ötzi had a total of 61 tattoos (or Soot tattoos), consisting of 19 groups of black lines ranging from 1 to 3 mm in thickness and 7 to 40 mm long. These include groups of parallel lines running along the longitudinal axis of his body and to both sides of the lumbar spine, as well as a cruciform mark behind the right knee and on the right ankle, and parallel lines around the left wrist. The greatest concentration of markings is found on his legs, which together exhibit 12 groups of lines....\n",
    "\n",
    ">Ötzi wore a cloak made of woven grass and a coat, a belt, a pair of leggings, a loincloth and shoes, all made of leather of different skins. He also wore a bearskin cap with a leather chin strap. The shoes were waterproof and wide, seemingly designed for walking across the snow; they were constructed using bearskin for the soles, deer hide for the top panels, and a netting made of tree bark. Soft grass went around the foot and in the shoe and functioned like modern socks. The coat, belt, leggings and loincloth were constructed of vertical strips of leather sewn together with sinew. His belt had a pouch sewn to it that contained a cache of useful items: a scraper, drill, flint flake, bone awl and a dried fungus....\n",
    "\n",
    ">The leather loincloth and hide coat were made from sheepskin... nearer to modern domestic European sheep than to wild sheep.... Part of the coat was made from domesticated goat... The leggings were made from domesticated goat leather.... Shoelaces were made from the European genetic population of cattle. The quiver was made from wild roe deer, the fur hat was made from... brown bear....\n",
    "\n",
    ">Other items found with the Iceman were a copper axe with a yew handle, a chert-bladed knife with an ash handle and a quiver of 14 arrows with viburnum and dogwood shafts. Two of the arrows, which were broken, were tipped with flint and had fletching (stabilizing fins), while the other 12 were unfinished and untipped. The arrows were found in a quiver with what is presumed to be a bow string, an unidentified tool, and an antler tool which might have been used for sharpening arrow points. There was also an unfinished yew longbow that was 1.82 metres (72 in) long.\n",
    "\n",
    ">In addition, among Ötzi's possessions were berries, two birch bark baskets, and two species of polypore mushrooms with leather strings through them. One of these, the birch fungus, is known to have anthelmintic properties, and was probably used for medicinal purposes. The other was a type of tinder fungus, included with part of what appeared to be a complex firelighting kit. The kit featured pieces of over a dozen different plants, in addition to flint and pyrite for creating sparks.\n",
    "\n",
    ">Ötzi's copper axe's... haft is 60 centimetres (24 in) long and made from carefully worked yew with a right-angled crook at the shoulder, leading to the blade. The 9.5 centimetres (3.7 in) long axe head is made of almost pure copper, produced by a combination of casting, cold forging, polishing, and sharpening.... The copper in the axe came from southern Tuscany. It was let into the forked end of the crook and fixed there using birch-tar and tight leather lashing....\n",
    "\n",
    ">The Y chromosome DNA of Ötzi belongs to a subclade of G defined by the SNPs M201, P287, P15, L223 and L91 (G-L91, ISOGG G2a2b, former \"G2a4\").... Analysis of his mitochondrial DNA showed that Ötzi belongs to the K1 subclade.... Ötzi is most closely related to southern Europeans, especially to geographically isolated populations like Corsicans and Sardinians. DNA analysis also showed him at high risk of atherosclerosis and lactose intolerance, with the presence of the DNA sequence of Borrelia burgdorferi, possibly making him the earliest known human with Lyme disease.... In October 2013, it was reported that 19 modern Tyrolean men were descendants of Ötzi or of a close relative...\n",
    "\n",
    "    #noted #2019-10-07\n",
    "    \n",
    "&nbsp;"
   ]
  },
  {
   "cell_type": "markdown",
   "metadata": {},
   "source": [
    "**Anton Howes**: _Trusting the Ancients_ <https://antonhowes.substack.com/p/age-of-invention-trusting-the-ancients>_: \"How could the authority of the ancients be so potent for so long? Well, consider the context. Today, in a world of skyscrapers, indoor plumbing, and the widespread use of horse-less metal chariots, we rarely think that the ancients were in any way more advanced than us. We would, automatically, question them. In the sixteenth and seventeenth centuries, however, in a world of wooden houses, dirt floors, and carts, then the still-standing achievements of the ancients must have been mind-blowing: centuries-old pyramids, aqueducts, amphitheatres, and arenas, not to mention the written accounts of technologies long lost. Archimedes had allegedly set fire to Roman ships at the siege of Syracuse in the 3rd century BCE, using only mirrors focusing the sun’s beams. Archytas had apparently made a flying pigeon out of wood, and Daedalus had achieved human flight. Perhaps Vulcan’s legendary army of iron men might have been real automata. The writings of the ancients were thus, to the scholar of the sixteenth century, a potential goldmine of technologies to be rediscovered.... Given the context... the pining after a golden age... it is unsurprising that when the ancient sources said something, the default position would have been to trust them...\n",
    "\n",
    "    #noted #2019-10-10\n",
    "    \n",
    "&nbsp;"
   ]
  },
  {
   "cell_type": "markdown",
   "metadata": {},
   "source": [
    "**Weekend Reading: Dietz Vollrath: Deep Roots of Development** <https://www.bradford-delong.com/2019/10/the-deep-roots-of-development-part-1.html>: \n",
    "\n",
    "<img class=\"asset  asset-image at-xid-6a00e551f0800388340240a4de17cc200b img-responsive\" style=\"width: 750px; display: block; margin-left: auto; margin-right: auto;\" alt=\"Latin_American_Growth_1969-2010\" title=\"Latin_American_Growth_1969-2010\" src=\"https://delong.typepad.com/.a/6a00e551f0800388340240a4de17cc200b-750wi\" />\n",
    "\n",
    "**Dietz Vollrath**: _[The Deep Roots of Development](https://growthecon.com/blog/Deep-Roots-1/)_: \"Think statistically, rather than in absolutes.... It is plausible that ethnic groups in areas where there were large returns to long-run investment in agricultural production may end up more patient in the long-run as well.... There is a significant relationship of productivity with patience... but the R-squared is about 10%.... [And] the results don’t mean that ethnic group A with higher productivity had to have higher patience than group B with lower productivity.... Lots of other things affect the patience of an ethnic group over and above the productivity level, and hence lots of things could have changed over the course of history to explain patience.... The findings... do not mean it is impossible to change the development level of countries or groups today. But the deep-rooted nature of development may mean we have to find other policy levers to push, as we cannot go back in time and roll back colonization, or change inherent agricultural productivity...\n",
    "\n",
    "<!--more-->\n",
    "\n",
    ">...It will seem presumptuous to explain cross-cultural patience as a function of agricultural productivity around the time of the Neolithic Revolution. And I think that researchers within this field do have a tendency to take big swings at big questions, and at times the prose in the papers will reflect that. Don’t let that put you off. The question still remains whether there is a valid empirical link established, and whether that link can be interpreted causally or just as a correlation. I think you’ll see that there is an accumulation of papers establishing strong links between deep roots and current development, and that this is not just a few odd results....\n",
    "\n",
    ">The cross-country empirical work on institutions that started around the mid-1990s as part of the cross-country growth regression literature, and was carried forward by the Acemoglu, Johnson, and Robinson study that used settler mortality as a source of exogenous variation in institutions.... The TL;DR version of them is that I don’t find the empirical work convincing in establishing the proposition that institutions are the fundamental determinant of comparative development. The main criticisms were as follows:\n",
    "\n",
    ">1. The scales of institutional quality (e.g. “protection against expropriation” or “constraints on executives”) are used improperly in regressions....\n",
    "\n",
    ">2. In many cases institutional scales are just functioning as regional dummies. If you code a measure of institutional quality for European countries in 1750, and get that the Netherlands and England have a “3”, while Spain and Portugal have a “1”, and use this in a regression, then you may as well be using an indicator for “gray winters” versus “sunny winters”.\n",
    "\n",
    ">3. Instrumenting for the quality of institutions in colonies using the mortality rates of European settlers doesn’t satisfy the condition that the instrument (settler mortality) have an effect on living standards only through its effect on institutions.... Settler mortality is like a summary statistic for biological/geographic conditions, which almost certainly have other routes to influence living standards.\n",
    "\n",
    ">Hence I don’t spend a lot of time in class going through the body of literature on these cross-country institutional studies. Nevertheless, I do spend time talking a lot about institutions....\n",
    "\n",
    ">Let's take the 7 point index for \"constraint on the executive\" used by Acemoglu and Johnson in their 2005 paper. 1 is \"not so many constraints\" and 7 is \"lots and lots of constraints\".... Does Australia (7) have seven times as many constraints at Cuba (1)? Does the one-point gap between Luxembourg (7) and South Korea (6) have a similar meaning to the one-point gap between Liberia (2) and Cuba (1)? Using this as a continuous variable presumes that the index values have some actual meaning, when all they are is a means of categorizing countries. So what happens if you use the constraint on executive scores simply as categorical (i.e. dummy) variables rather than as a continuous measure? You'll find that all of the action comes from the category for the 7's (Western developed countries) relative to the 1's (Cuba, North Korea, Sudan, and others).... Countries with 2's, 3's, 4's, and 5's are not significantly richer than 1's (2's, 3's, and 4's are actually estimated to be *poorer* than 1's). Country's with 6's have marginally significant higher income than 1's. The finding is that having Western-style social-democracy constraints on executives is what is good for income per capita, but gradations in constraints below that are essentially meaningless.\n",
    "\n",
    ">But there is a more fundamental empirical problem once we use constraints on executive to categorize countries. Regressions are dumb, and don't care that we have a particular interpretation for our categories. They just load *any* differences in income per capita onto those categorical variables.... Empirically, the best I can conclude is that Western-style social democracies are different from poor countries. Well, duh. One aspect of that may be constraints on executives, but we cannot know that for sure. Other indices of institutions are just as bad.... You want to tell me Governance is good in Switzerland and bad in Uganda, I guess I'd have to agree with you, not having any specific experience to draw on. But if I ask you what exactly you mean by that, what kind of answer would I get?... The institutions that get coded as \"good\" are the institutions people find in rich countries, because those must be good institutions, right? These measures are inherently endogenous.... Another big problem with the empirical cross-country institutions work is courtesy of Glaeser et al (2004). Their point is that our institutional measures are generally measuring outcomes, not actual institutional differences. One example is Singapore, which scores (and scored) very high on institutional measures like risk of expropriation and constraints on executives. Except under Lee Kwan Yew, there were no constraints. He was essentially a total dictator, but happened to choose policies that were favorable to business, and did not arbitrarily confiscate property. But he *could* have, so there is no actual institutional limit there. The empirical measures of institutions we have are not measuring deep institutional, but transitory policy choices....\n",
    "\n",
    ">The whole issue of incredibly small sample sizes, often times in the 50-70 country range.... And don't forget publication bias.... It may be that institutions do matter fundamentally for development. But the cross-country empirical literature is not evidence of that....\n",
    "\n",
    ">Next up will be 2nd-generation cross-country empirical work that uses instrumental variables. Spoiler alert: those don't work either.... \n",
    "\n",
    ">1. They are still using an arbitrary measure of institutions as a continuous variable....\n",
    "\n",
    ">2. It is nearly impossible to believe that their instrument (settler mortality) has no separate correlation with the dependent variable (income per capita)....\n",
    "\n",
    ">3. The estimated effect of institutions doesn't make sense. Their IV results show a coefficient for institutions that is twice as large as the OLS coefficient. This is problematic. The whole reason we want IV estimates is because we think there is some kind of endogeneity between income per capita and institutions-specifically, that higher income leads to better institutions. This implies that the basic correlation of institutions and income per capita is biased *upwards*, or the OLS results are too big. But when they run IV, they get even bigger effects for institutions. This implies that income per capita has a *negative* effect on institutions, and that is hard to believe.... In the end, the simplest explanation for why their IV results are larger than the OLS is that there is a correlation of their instrument with the error term. We know settler mortality is negatively related to expropriation risk. If settler mortality is independently and negatively related to income per capita, then the IV results are going to be larger than the OLS....\n",
    "\n",
    ">4. The data are probably wrong. David Albouy's paper is the central reference here. Let me review the main issues. First, of the 64 observations, they do not have settler mortality data for 36 of them. For those 36, they infer a value from some other country. This inference could be plausible, but in many cases is not. For example, they use mortality data from Mali to infer values of mortality for Cameroon, Uganda, Gabon, and Angola. Gabon is mostly rainforest, and about 2300 miles away from Mali, a desert or steppe. Second, the sources vary in the type of individuals used to make mortality estimates. Most relevantly, in some countries the mortality rates of soldiers on campaign are used, and in others the mortality rates of laborers on work projects. In both cases, mortality rates are outliers relative to what settlers would have experienced. Most importantly, the use of the higher mortality rates from campaigning soldiers or laborers is correlated with poor institutions. That is, AJR use artificially high mortality rates for places with currently bad institutions. Hence their results are already baked in before they go to run regressions. Albouy's paper shows that making any of a number of equally plausible assumptions about how to code the data will eliminate the overall results.... So in the end the settler mortality evidence that institutions matter just does not stack up. It certainly does not have the kind of robust, replicable features we would like in order to establish the importance of something like institutions for development. If you want to argue that institutions matter, then by all means do so, but the AJR evidence is not something you should cite to support your case.\n",
    "\n",
    ">Next up I'll talk about why 3rd generation empirical studies of specific institutions aren't actually about institutions, but about poverty traps.... Dell (2010):  Household consumption and child health are lower in areas in Peru and Bolivia subject to the Spanish mita-forced labor in mines-than in areas just outside the mita... .Nunn (2008): The number of slaves taken from an African country is negatively related to income per capita today. Banerjee and Iyer (2005): Agricultural output and investments in education and health are currently lower in areas of India where the British invested property rights in landlords as opposed to cultivators. Iyer (2010): Areas of India subject to direct British colonial rule have lower investments in schooling and health today than areas ruled indirectly through Indian governors. Michalopoulos and Papaioannou (2013). Pre-colonial ethnic political centralization in Africa is related to current levels of development within Africa:\n",
    "\n",
    ">These papers demonstrate is that economic development is persistent. If you like, they are evidence that there are poverty traps. If something happens to knock you below some threshold level of development-slaving activity, the mita, arbitrary borders, bad landlords-then you can't get yourself out of that trap. You are too poor to invest in public goods like human capital or infrastructure because you are spending all your money just trying to survive. So you stagnate. Pushing you into the trap was the result of an \"institution\", if we call these historical experiences institutions, but it isn't institutions that keep you poor, it's the poverty itself that prevents development.\n",
    "\n",
    ">Dell shows that education is lower and road networks are less dense in [former] mita areas than in their close neighbors.... Was some other institutional structure left behind by the mita that limited development[?]. But we have no evidence of any institutional difference between the mita areas and others. We simply know that the mita areas are poorer, and that could be evidence of a poverty trap rather than any specific institution. The papers on India have a similar flavor. The British no longer are in charge in India, but there are some differences today related to how they did govern. With regards to the effects of direct British rule, we don't actually know what the channel is leading to the poor outcomes.... With regards to the effect of landlords or cultivator property rights, this isn't about institutions, it's about the distribution of wealth. Think of the question this way. What specific policy change do any of these papers suggest would lead to economic development? \"Don't get colonized, exploited, or enslaved by Europeans\" seems like it would be hard to implement retroactively.\n",
    "\n",
    ">Understanding how a country/region/ethnicity got poor is not the same thing as understanding what will make them rich. \"Institutions mattered\" is different from \"institutions matter\". I think the better conclusion from the 3rd generation of institutions research is that economies can fall into poverty traps from which escape is difficult if not impossible. Would better institutions allow these places to escape these traps? I don't think we can say that with any confidence, partly because we have no idea what \"better institutions\" means.\n",
    "\n",
    ">I think the right null hypothesis regarding existing institutions is that they likely solving a particular issue for a particular group. Let's call this the Elinor Ostrom hypothesis. I don't think that the existing empirical institutions literature has provided sufficient evidence to reject the null at this point. Certainly not to the point that we can pinpoint the \"right\" institutions with any confidence....\n",
    "\n",
    ">All the other reading and thinking I've done on this subject suggests to me that they *do* matter. But the existing empirical evidence is not sufficient to strongly reject the null that they do *not*.... Given the empirical evidence, then, I'm uncomfortable making broad pronouncements that we have to get institutions \"right\" or \"improve institutions\" to generate economic development. We do not have evidence that this would work. Further... Acemoglu and Robinson did not lay out a theory of what constitutes good institutions, they laid out a theory of why institutions are persistent. Their work shows that being stuck in the bad equilibrium is the result of a skewed distribution of economic power that grants some elite a skewed amount of political power. The elite can't credibly commit to maintaining reforms, and the masses can't credibly commit to preserving the elite's position, so they can't come to an agreement on creating better institutions (whatever those might be).\n",
    "\n",
    ">The implication of the institutions literature is that redistributing wealth towards the masses will lead to economic development (and vice versa, that redistributing it towards the elites will slow economic development). Only then will the elite and masses endogenously negotiate a better arrangement. You don't even have to know precisely what \"good institutions\" means, as they will figure it out for themselves. The redistribution need not be explicit, but may arise through changes in technology, trade, or population. Douglass North has the same underlying logic in his work. It was only with changes in the land/labor ratio favoring workers in Europe that old institutions disintegrated (serfdom) and new institutions arose (secure property rights). A good example is South Korea. In 1950, Korea was one of the poorest places on earth, falling well below many African nations in terms of development. It had also been subject to colonization by Japan from 1910 to 1945. Korea had the same history of exploitive institutions as most African nations.\n",
    "\n",
    ">So why didn't South Korea get stuck in the same trap of bad institutions and under-development as Africa? One answer is that is had a massive redistribution of wealth. In 1945, the richest 3 percent of rural households owned 2/3 of all land, and about 60 percent of rural households had no land. This should have led to bad institutions and persistent underdevelopment. (See Ban, Moon, and Perkins, 1980, if you can find a copy). But starting in 1948 South Korea enacted wholesale land reform. By 1956, only 7 percent of farming households were tenants, and the rest owned their land. According to the FAO Agricultural Census of 1962, South Korea had *zero* farms larger than 5 hectares. Not a small number, not just a few, but *zero*. Agricultural land in South Korea, probably the primary source of wealth at that point, was distributed with incredible equity across households. According to North or Acemoglu and Robinson, this redistribution changed the relative power of elites and masses. It would have allowed them to reach a deal on \"good institutions\".... If you want to generate economic development, the implication of the institutions literature is that you have to reform the underlying distribution of economic power first. Once you do that institutions will endogenously evolve towards the \"good\" equilibrium, whatever that may be.\n",
    "\n",
    "----\n",
    "\n",
    "**Dietz Vollrath** (2017): _[Who Are You Calling \"Malthusian\"?](https://growthecon.com/blog/Malthus/)_: \"I’m not sure how to reply. I’m not a Malthusian 'believer', because that isn’t a thing. But I do think that several of Malthus’ assumptions about how economies function, in particular prior to the onset of sustained growth during the 1800’s, are well founded. And those assumptions have implications that help make sense of the world in that period of time:\n",
    "\n",
    "<img style=\"display:block; margin-left:auto; margin-right:auto;\" src=\"https://delong.typepad.com/.a/6a00e551f080038834022ad3dff19e200b-pi\" alt=\"Who are you calling Malthusian\" title=\"Who_are_you_calling_Malthusian_.png\" border=\"0\" width=\"500\" height=\"363\" />\n",
    "\n",
    "<img style=\"display:block; margin-left:auto; margin-right:auto;\" src=\"https://delong.typepad.com/.a/6a00e551f080038834022ad3dff1b5200b-pi\" alt=\"Who are you calling Malthusian\" title=\"Who_are_you_calling_Malthusian_.png\" border=\"0\" width=\"500\" height=\"351\" />\n",
    "\n",
    "----\n",
    "\n",
    "**Dietz Vollrath**: _[Involution and growth](https://growthecon.com/blog/Involution/)_: \"This is a long-promised, long-simmering, longer-than-necessary post on the concept of involution. This term comes up often in discussions of Asian and/or Chinese development, or the lack thereof relative to western Europe. You can find several definitions, which is one of the problems with the concept. Perhaps the best way to give you a sense of what it means is that the Platonic use of the term would be “Rather than developing like western Europe, the Yangzi Delta involuted.”... The classic referenc... comes from Clifford Geertz’s _Agricultural Involution: The Processes of Ecological Change in Indonesia_. Geertz borrowed the term from an anthropologist, Alexander Goldenweiser, who used it to describe a situation in which the crafts or art of a society stuck with the same fundamental patterns, only making them more and more intricate over time.... \n",
    "\n",
    ">Geertz adopted the word as a description of how village society in... the... paddy rice-growing heartland of Java... adapted to the growth in population, colonization by the Dutch, and the introduction of sugar as an export crop.... Villages did not change in a fundamental way during all this, even as they incorporated sugar production alongside paddy rice, but simply refined their existing social structures to further support small scale intense labor use. Those social structures included how land and labor was rented, hired, and shared across families.... What did not come along with all this refinement in agricultural relationships was growth in output per worker.... Village life in Indonesia did not become more market-oriented or commercialize in a way that one familiar with western European or English economic history might have expected.... The relationship with the Dutch, and the idea that Indonesia was an effective agricultural hinterland for Amsterdam. Thus money and goods flowed back and forth, but there was almost no flow of _people_. For Geertz, the importance of this showed up in a comparison of Java and Japan:\n",
    "\n",
    ">>Japanese peasant agriculture came to be complementarily related to an expanding manufacturing system.... Javanese peasant agriculture came to be complementarily related to an expanding agro-industrial structure under foreign management.... Most of the invigorating effect of the flourishing agro-industrial sector was exercised upon Holland, and its impact upon the peasant sector was... enervating...\n",
    "\n",
    ">Philip Huang’s work on Chinese development... There were technological and market changes taking place in the Chinese economy.... Huang identifies the outcome as involution.... He identifies changes in the type of crops produced (e.g. cotton, tobacco, maize, silk) and in family work relationships (e.g. an expansion of women’s role in producing goods for sale).... Here the concept of involution is really about how per-worker or per-capita outcomes could stagnate or fall despite expansions in absolute output, and at the same time as significant technological and commercial changes. This observation of involution is argued to run back through Chinese history to at least 1350, the scope of Huang’s book.... Is the term involution useful as an analytical concept for understanding why this occurred? No, as far as I’m concerned.... We’ve got a reasonable analytical model-Malthus-that allows one to think about the relationship of output per worker, population density, and the effect of changes in technology. It has the advantage of being clear on how those things are related, while also highlighting that the response of family formation and fertility to changes in output per worker is central to the story.... I’d reserve the term involution for Geertz’s specific idea that-as part of a Malthusian outcome-the agrarian or social relationships within an economy may evolve to a more refined or hyper-specialized version of themselves...\n",
    "\n",
    ">Most of Europe up until the late 1800s could still be explained within the context of a Malthusian model.... That said, there were places within Europe that saw commercial and market development which did lead to growth in living standards, urbanization, and ultimately sustainollrath**: ed growth earlier than this occurred in most of Asia. Why or how did they accomplish that, if they were stuck inside the same Malthusian framework?... Let me reach back to those two specifics that Geertz talked about with respect to Indonesia... paddy... rice cultivation, and the absence of an urban outlet within Indonesia itself.... The Chinese experience included urban areas, so it was not a “pure” Malthusian economy like Indonesia, in that sense. Despite that, it still ended up in a Malthusian situation of stagnant or falling output per worker, and the urbanization rate did not appear to change much. Here I think... paddy rice production, played a role, at least for the development of the Yangzi.... The marginal product of labor in rice production does not fall by much as additional labor is applied. That means output per worker in those agricultural areas is insensitive to growth in the number of workers. This turns out to be both good and bad for those areas.... Here’s Huang:\n",
    "\n",
    ">>The involuted peasant economy was able to support very large and complex cities, and, by extension, also a highly advanced elite and urban culture, even if the surplus above subsistence produced by the average cultivator shrank from the diminished marginal returns that came with involution. The paradox is poorly understood. Large cities and advanced urban cultures are commonly associated with rural prosperity, but I would like to suggest that the opposite was actually the case in much of Chinese history...\n",
    "\n",
    ">How does this compare to Europe, and why does it explain the lack of crude involution? In European agriculture, there are reasons to think that the marginal product of labor is very sensitive to the amount of labor used. This is both bad and good. It is bad, because any population growth in agriculture leads to significant loss of output per worker. But that means population growth slows down quickly, and hence the transition to the Malthusian stagnant equilibrium is very fast. So one reason Europe may not have looked like it “involuted” is that it did not have long, drawn-out, transitions towards the Malthusian equilibrium, as in China..... [Plus] relative to rice-growing areas of China, Europe had an advantage in that any urbanization it generated created this follow-on effect of improving rural output per worker.... And I haven’t even touched on differences in family formation and fertility patterns, which would add a whole other layer on top of this...\n",
    "\n",
    "----\n",
    "\n",
    "**Dietz Vollrath** (2014): _[Solitary, Poor, Nasty, Brutish, Short...and Happy?](https://growthecon.com/blog/solitary-poor-nasty-brutish-short-and-happy/)_: \"I have no idea how happy these hunter-gatherers really were.... But let me suggest two negatives.... One, they had to witness a brutal rate of infant and child mortality.... And let's not forget that those kids led unhappy lives, dying early, likely from some kind of infectious disease. Two, according to table 5 from the GK paper... close to one-in-five deaths occurred on the end of a spear, knife, arrow, or whatever weapon was at hand. One in five. For comparison, in the U.S. in 2010 (p. 11) only 0.4%, or 1 in 250, deaths are from homicide.... Hobbes may have been wrong about life being 'solitary', as my guess is that you stuck as close as possible to your trusted family network, but 'poor, nasty, brutish, and short' is a good first approximation...\n",
    "\n",
    "----\n",
    "\n",
    "**Dietz Vollrath**: _Papers_ <https://growthecon.wordpress.com/papers/>: \"If you are new to the field then the following papers provide a nice entry point:\n",
    "\n",
    ">**Chang-Tai Hsieh and Peter J. Klenow** (2010): _Development Accounting_ <http://ideas.repec.org/a/aea/aejmac/v2y2010i1p207-23.html>... \n",
    "\n",
    ">**Mancur Olson** (1996): _Big Bills Left on the Sidewalk: Why Some Nations Are Rich, and Others Poor_ <http://ideas.repec.org/a/aea/jecper/v10y1996i2p3-24.html>...   \n",
    "\n",
    ">**Nathan Nunn** (2009): _The Importance of History for Economic Development_ <http://ideas.repec.org/a/anr/reveco/v1y2009p65-92.html>...\n",
    "\n",
    ">**Oded Galor** (2005): _From Stagnation to Growth: Unified Growth Theory_ <http://ideas.repec.org/h/eee/grochp/1-04.html>...\n",
    "    \n",
    ">**Xavier Sala-i-Martin** (2006): _The World Distribution of Income: Falling Poverty and... Convergence, Period_ <http://ideas.repec.org/a/tpr/qjecon/v121y2006i2p351-397.html>...\n",
    "\n",
    "----\n",
    "\n",
    "* **Chris Blattman**: _Should We Believe the Institutions and Growth Literature?_ <https://chrisblattman.com/2014/11/26/believe-institutions-growth-literature/>: \"Dietz Vollrath... you should read these posts, and follow the blog.... The institutions literature has focused too much on constraints and not on capacity. Constraints on power matter a lot. But the capacity of the state to get things done is equally or more important.... The slightly less-read stuff that should be more read, in my opinion.... [North, Wallis and Weingast](https://www.nber.org/papers/w12795)... [Tim Besley and Torsten Persson](http://econ.lse.ac.uk/staff/tbesley/papers/originsofstatecapacity.pdf)... on state capacity... small-sample comparative case study work in Latin America, such as [Jeffrey Paige](https://books.google.com/books?isbn=0674136497) or [James Mahoney](https://link.springer.com/article/10.1007/BF02687587)... [John Ishiyama’s](https://books.google.com/books?isbn=1444342924) short textbook...\n",
    "\n",
    "* **Ricardo Hausmann** (2013): _The Tacit-Knowledge Economy_ <https://www.project-syndicate.org/commentary/ricardo-hausmann-on-the-mental-sources-of-productivity-growth>: \"Know how resides in brains, and emerging and developing countries should focus on attracting them, instead of erecting barriers to skilled immigration. Because knowledge moves when people do, they should tap into their diasporas, attract foreign direct investment in new areas, and acquire foreign firms if possible.... Recent research at Harvard University’s Center for International Development (CID) suggests that tacit knowledge flows through amazingly slow and narrow channels. The productivity of Nuevo León, Mexico, is higher than in South Korea, but that of Guerrero, another Mexican state, resembles levels in Honduras. Moving knowledge across Mexican states has been difficult and slow. It is easier to move brains than it is to move tacit knowledge into brains, and not only in Mexico. For example, as the CID’s Frank Neffke has shown, when new industries are launched in German and Swedish cities, it is mostly because entrepreneurs and firms from other cities move in, bringing with them skilled workers with relevant industry experience.... Knowledge moves when people do...\n",
    "\n",
    "* **Timothy Besley and Torsten Persson**: _The Origins of State Capacity: Property Rights, Taxation, and Politics_ <http://econ.lse.ac.uk/staff/tbesley/papers/originsofstatecapacity.pdf>: \"'Policy choices' in market regulation and taxation are constrained by past investments in the legal and fiscal capacity of the state. We study the economic and political determinants of such investments and find that legal and  fiscal capacity are typically complements. Our theoretical results show that, among other things, common interest public goods, such as  fighting external wars, as well as political stability and inclusive political institutions, are conducive to building state capacity of both forms. Our preliminary empirical results uncover a number of correlations in cross-country data which are consistent with the theory...\n",
    "\n",
    "* **Douglass C. North, John Joseph Wallis, and  Barry R. Weingast**: _A Conceptual Framework for Interpreting Recorded Human History_ <https://www.nber.org/papers/w12795>: \"Beginning 10,000 years ago, limited-access social orders developed that were able to control violence, provide order, and allow greater production through specialization and exchange... using the political system to limit economic entry to create rents, and then using the rents to stabilize the political system and limit violence.... This type of political economy arrangement... appears to be the natural way that human societies are organized.... In contrast, a handful of developed societies have developed open-access social orders. In these societies, open access and entry into economic and political organizations sustains economic and political competition. Social order is sustained by competition rather than rent-creation. The key to understanding modern social development is understanding the transition from limited- to open-access social orders, which only a handful of countries have managed since WWII...\n",
    "\n",
    "* **Robert I. Moore** (2000): _The First European Revolution: c. 970-1215_ <https://books.google.com/books?isbn=0631184791>: \"This book provides a radical reassessment of Europe from the late tenth to the early thirteenth centuries.... The period witnessed the first true revolution in European society, characterized by a transformation in the economy, in family structures, and in the sources of power and the means by which it was exercised. Together these changes brought into being for the first time an autonomous city-supporting civilization in non-Mediterranean Europe. The circumstances and outcome of this transformation, he demonstrates, not only shaped medieval and modern Europe but established enduring and fundamental characteristics which differentiated Europe from other world civilizations.  The process at the heart of change involved social, cultural and institutional transformations whose implementation required extensive popular participation. On occasion it required the use or threat of popular violence, in part consciously sanctioned and led by some of those challenging for power within the social elite; once the revolution had been achieved this popular enthusiasm had to be subdued and contained. These developments were far from simple and anything but uniform. The differences which resulted both within Europe and between Europe and other world civilizations were of lasting significance...\n",
    "\n",
    "* **Michael Mitterauer**: _Why Europe?: The Medieval Origins of Its Special Path_ <https://books.google.com/books?isbn=0226532380>: \"While most historians have located the beginning of Europe’s special path in the rise of state power in the modern era, Mitterauer establishes its origins in rye and oats. These new crops played a decisive role in remaking the European family, he contends, spurring the rise of individualism and softening the constraints of patriarchy. Mitterauer reaches these conclusions by comparing Europe with other cultures, especially China and the Islamic world, while surveying the most important characteristics of European society as they took shape from the decline of the Roman empire to the invention of the printing press. Along the way, Why Europe? offers up a dazzling series of novel hypotheses to explain the unique evolution of European culture...\n",
    "\n",
    "    #economicgrowth #economichistory #weekendreading #2019-10-12\n",
    "\n",
    "&nbsp;"
   ]
  },
  {
   "cell_type": "markdown",
   "metadata": {},
   "source": [
    "For the past decade Robert Gordon has written about _The Rise and Fall of American Growth_, praising the first in our past that was and lamenting the second in our present that is. Now comes Dietz Vollrath with a lively, accurate, and essential corrective to Gordon's pessimism: growth is slow today, he demonstrates, not because our economy is failing but because our economy has succeeded: **Dietz Vollrath**: _Optimal Stagnation: Why Slower Economic Growth Is a Sign of Success_: \"In 1940 you might have spent your money installing plumbing for running water, or a toilet.... The same went for air conditioning, a TV, or a computer at other points in time during the 20th century. But once we had those goods, then what did we spend our money on?... Goods became cheaper and we filled up our houses with them.... Spending turned towards services... longer and better vacations... classes... medical specialists... physical therapy... data... Netflix and Hulu.... The flow of workers out of producing goods didn’t signal some kind of failure.... In the 21st century... these shifts became a drag on economic growth...[for] most service industries have relatively low productivity growth.... As we shifted our spending from goods to services, this pulled down aggregate productivity growth, which is just a weighted average of productivity growth across different industries.... Baumol.... Labor is necessary to produce goods, but it is not part of the product itself. The person who assembled your fuel injector doesn’t have to be there for you to drive your car. On the other hand, for services labor is part of the product... you need to interact with a doctor, or lawyer, or waiter, or personal trainer, or financial advisor, or teacher.... It isn’t some kind of failure that service productivity growth is low, it is rather an inherent feature of those kinds of activities.... Choices born of success had the unintended consequence of putting a drag on the growth rate in the 21st century...\n",
    "\n",
    "    #noted #2019-10-11\n",
    "    \n",
    "&nbsp;"
   ]
  },
  {
   "cell_type": "markdown",
   "metadata": {},
   "source": [
    "**Leonardo Pisano** (1202): _Book of Calculation_ <https://delong.typepad.com/files/leonardo-pisano.pdf>: \"You, my Master Michael Scott, most great philosopher, wrote to my Lord [Friedrich II Hohenstaufen] about the book on numbers which some time ago I composed and transcribed to you; whence complying with your criticism, your more subtle examining circumspection, to the honor of you and many others I with advantage corrected this work. In this rectification I added certain necessities, and I deleted certain superfluities. In it I presented a full instruction on numbers close to the method of the Indians, whose outstanding method I chose for this science. And because arithmetic science and geometric science are connected, and support one another, the full knowledge of numbers cannot be presented without encountering some geometry, or without seeing that operating in this way on numbers is close to geometry; the method is full of many proofs and demonstrations which are made with geometric figures. And truly in another book that I composed on the practice of geometry I explained this and many other things pertinent to geometry, each subject to appropriate proof. To be sure, this book looks more to theory than to practice. Hence, whoever would wish to know well the practice of this science ought eagerly to busy himself with continuous use and enduring exercise in practice, for science by practice turns into habit; memory and even perception correlate with the hands and figures, which as an impulse and breath in one and the same instant, almost the same, go naturally together for all; and thus will be made a student of habit; following by degrees he will be able easily to attain this to perfection. And to reveal more easily the theory I separated this book into xv chapters, as whoever will wish to read this book can easily discover. Further, if in this work is found insufficiency or defect, I submit it to your correction...\n",
    "\n",
    "    #noted #2019-10-11\n",
    "    \n",
    "&nbsp;"
   ]
  },
  {
   "cell_type": "markdown",
   "metadata": {},
   "source": [
    "<img class=\"asset  asset-image at-xid-6a00e551f0800388340240a48fdd60200c img-responsive\" style=\"width: 733px; display: block; margin-left: auto; margin-right: auto;\" alt=\"Alchemy\" title=\"Alchemy\" src=\"https://delong.typepad.com/.a/6a00e551f0800388340240a48fdd60200c-750wi\" />\n",
    "\n",
    "**Anton Howes**: _When Alchemy Works_ <https://antonhowes.substack.com/p/age-of-invention-when-alchemy-works>_: \"Often, the alchemists were onto something: ’ve spent a lot of time recently researching innovations of the late sixteenth century, many of which involved alchemy. Alchemy today has a bad reputation, and for good reason. You cannot transmute base metal into gold (unless you have a modern particle accelerator). You certainly won’t transmute base metal into gold in a laboratory because of a particular conjunction of the planets, or because you happened to be especially pure of heart that day. But what is so striking about the alchemists is that they took experiments and observations very seriously. Even if they were entirely wrong as to why, their alchemical demonstrations often really did work...<!--more-->\n",
    "\n",
    ">...Take Richard Eden, who in the 1560s described having created “a hundred silver trees an inch high, so perfectly formed with trunks, stalks, and leaves”. Achieving the growth of such a silver forest-often called Diana’s trees-was meant to be a crucial step towards the Philosopher’s Stone. And as surprising as it may seem, it is very real. You can achieve it by precipitating nitrate of silver with mercury. The silver appears to “grow”, with crystals shooting out in every direction. With a little help it could easily resemble a tree, with intricate and unpredictable little crystalline stalks and leaves. Such an experiment might nowadays be considered a party trick. But at the time it would have been empirical confirmation that the alchemical manuals written by the ancients, such as the so-called ancient Egyptian priest Hermes Trismegistus, were correct. It would also have been empirical confirmation of alchemical theory, that metals “grew” beneath the earth. After all, metals seemed to stretch out veins through the earth like the roots of the tree. While such a process in nature might be very slow, the alchemist’s skill was in merely speeding things up, to make “nature ripe by art”.\n",
    "\n",
    ">What about transmutation? Once again, there was an empirical basis for it. Many governments took it seriously, banning transmutation into gold without a license, for fear that the coinage would be affected. In fact, the English court in the 1570s put considerable money into a transmutation effort that has been proven to work, at least on a small scale. This was the project of William Medley, who on Parys Mountain, in Anglesey, appeared to transmute iron into copper. His investors sent the assay master of the royal mint, William Humfrey, to observe the process, who declared it “beyond the reason of all”: it resulted in a greater weight of metal than it started with. Yet, ultimately, after test after test, Humfrey had to admit that it really did work. He allowed experiment to trump theory. What was really happening? The key was in the Parys Mountain water, which flowed through copper ores underground, thus making it rich in copper sulphates. When Medley used the water to boil scrap iron, the copper thus seemed to form from the iron itself.\n",
    "\n",
    ">Unfortunately for Medley, he appears to have failed to perform the process at any scale. He was also secretive, at first resisting Humfrey’s visits, which caused much delay. A rival alchemist spread malicious rumours about him, and his delays put him in the bad books of one of his investors, the Earl of Warwick, who had him imprisoned for debt. Indeed, this was a common ending for alchemists, who on the whole were far too secretive for their own good. One of the key alchemical texts, mistakenly attributed to Aristotle, was even called the _Secreta Secretorum_. It opened them to criticism and hampered the development of their science. But I think the lesson is this: our ancestors were not stupid. In fact, they were perfectly willing, long before the period we often think of as the Scientific Revolution, to take observation and experiment seriously. They were even willing to allow observation to trump the theories of the ancients. But those who studied the art were too few, too far between, and perhaps simply too unwilling to share their experiences with one another... \n",
    "\n",
    "    #weekendreading\n",
    "    \n",
    "&nbsp;"
   ]
  },
  {
   "cell_type": "markdown",
   "metadata": {},
   "source": [
    "**Daron Acemoglu, Simon Johnson, and James A. Robinson** (2001): _The Colonial Origins of Comparative Development: An Empirical Investigation_ <https://delong.typepad.com/files/colonial-origins.pdf>_: \"Europeans adopted very different colonization policies in different colonies, with different associated institutions. In places where Europeans faced high mortality rates, they could not settle and were more likely to set up extractive institutions... [which] persisted to thepresent.... We estimate large effects of institutions on income per capita. Once the effect of institutions is controlled for, countries in Africa or those closer to the equator do not have lower incomes... <https://delong.typepad.com/files/colonial_origins.zip> \n",
    "\n",
    "    #noted #2019-10-09\n",
    "    \n",
    "&nbsp;"
   ]
  },
  {
   "cell_type": "markdown",
   "metadata": {},
   "source": [
    "**David Y. Albouy** (2008): _The Colonial Origins of Comparative Development: An Investigation of the Settler Mortality Data_ <https://delong.typepad.com/files/albouy.pdf>_: \"In a seminal contribution, Acemoglu, Johnson, and Robinson (2001) argue property-rights institutions powerfully affect national income, using estimated mortality rates of early European settlers to instrument capital expropriation risk. However 36 of the 64 countries in their sample are assigned mortality rates from other countries, typically based on mistaken or conflicting evidence. Also, incomparable mortality rates from populations of laborers, bishops, and soldiers-often on campaign-are combined in a manner favoring their hypothesis. When these data issues are controlled for, the relationship between mortality and expropriation risk lacks robustness, and instrumental-variable estimates become unreliable, often with infinite confidence intervals... <https://www.nber.org/data-appendix/w14130/>\n",
    "\n",
    "    #noted #2019-10-09\n",
    "    \n",
    "&nbsp;"
   ]
  },
  {
   "cell_type": "markdown",
   "metadata": {},
   "source": [
    "**Wikipedia**: _Ötzi the Iceman_ <https://en.wikipedia.org/wiki/%C3%96tzi>: \"Born near the present village of Feldthurns (Velturno), north of Bolzano, Italy. Died c. 3300 BCE (aged about 45) Ötztal Alps, near Hauslabjoch on the border between Austria and Italy.... Currently, it is believed that Ötzi bled to death after the arrow shattered the scapula and damaged nerves and blood vessels before lodging near the lung..... Ötzi was 160 centimetres (5 ft 3 in) tall, weighed about 50 kilograms (110 lb), and was about 45 years of age.... Analysis of pollen, dust grains and the isotopic composition of his tooth enamel indicates that he spent his childhood near the present village of Feldthurns, north of Bolzano, but later went to live in valleys about 50 kilometres farther north...<!--more-->\n",
    "\n",
    ">...Partly digested remains of ibex meat, confirmed by DNA analysis, suggesting he had a meal less than two hours before his death. Wheat grains were also found. It is believed that Ötzi most likely had a few slices of a dried, fatty meat, probably bacon, which came from a wild goat in South Tyrol, Italy. Analysis of Ötzi's intestinal contents showed two meals (the last one consumed about eight hours before his death), one of chamois meat, the other of red deer and herb bread; both were eaten with roots and fruits. The grain also eaten with both meals was a highly processed einkorn wheat bran, quite possibly eaten in the form of bread. In the proximity of the body, and thus possibly originating from the Iceman's provisions, chaff and grains of einkorn and barley, and seeds of flax and poppy were discovered, as well as kernels of sloes (small plum-like fruits of the blackthorn tree) and various seeds of berries growing in the wild.[18] Hair analysis was used to examine his diet from several months before....\n",
    "\n",
    ">High levels of both copper particles and arsenic were found in Ötzi's hair. This, along with Ötzi's copper axe blade, which is 99.7% pure copper, has led scientists to speculate that Ötzi was involved in copper smelting.... Ötzi's lifestyle included long walks over hilly terrain. This degree of mobility is not characteristic of other Copper Age Europeans. Ruff proposes that this may indicate that Ötzi was a high-altitude shepherd.... Ötzi apparently had whipworm (Trichuris trichiura).... Ötzi's teeth showed considerable internal deterioration from cavities. These oral pathologies may have been brought about by his grain-heavy, high carbohydrate diet.... Ötzi was lactose intolerant....\n",
    "\n",
    ">Ötzi had a total of 61 tattoos (or Soot tattoos), consisting of 19 groups of black lines ranging from 1 to 3 mm in thickness and 7 to 40 mm long. These include groups of parallel lines running along the longitudinal axis of his body and to both sides of the lumbar spine, as well as a cruciform mark behind the right knee and on the right ankle, and parallel lines around the left wrist. The greatest concentration of markings is found on his legs, which together exhibit 12 groups of lines....\n",
    "\n",
    ">Ötzi wore a cloak made of woven grass and a coat, a belt, a pair of leggings, a loincloth and shoes, all made of leather of different skins. He also wore a bearskin cap with a leather chin strap. The shoes were waterproof and wide, seemingly designed for walking across the snow; they were constructed using bearskin for the soles, deer hide for the top panels, and a netting made of tree bark. Soft grass went around the foot and in the shoe and functioned like modern socks. The coat, belt, leggings and loincloth were constructed of vertical strips of leather sewn together with sinew. His belt had a pouch sewn to it that contained a cache of useful items: a scraper, drill, flint flake, bone awl and a dried fungus....\n",
    "\n",
    ">The leather loincloth and hide coat were made from sheepskin... nearer to modern domestic European sheep than to wild sheep.... Part of the coat was made from domesticated goat... The leggings were made from domesticated goat leather.... Shoelaces were made from the European genetic population of cattle. The quiver was made from wild roe deer, the fur hat was made from... brown bear....\n",
    "\n",
    ">Other items found with the Iceman were a copper axe with a yew handle, a chert-bladed knife with an ash handle and a quiver of 14 arrows with viburnum and dogwood shafts. Two of the arrows, which were broken, were tipped with flint and had fletching (stabilizing fins), while the other 12 were unfinished and untipped. The arrows were found in a quiver with what is presumed to be a bow string, an unidentified tool, and an antler tool which might have been used for sharpening arrow points. There was also an unfinished yew longbow that was 1.82 metres (72 in) long.\n",
    "\n",
    ">In addition, among Ötzi's possessions were berries, two birch bark baskets, and two species of polypore mushrooms with leather strings through them. One of these, the birch fungus, is known to have anthelmintic properties, and was probably used for medicinal purposes. The other was a type of tinder fungus, included with part of what appeared to be a complex firelighting kit. The kit featured pieces of over a dozen different plants, in addition to flint and pyrite for creating sparks.\n",
    "\n",
    ">Ötzi's copper axe's... haft is 60 centimetres (24 in) long and made from carefully worked yew with a right-angled crook at the shoulder, leading to the blade. The 9.5 centimetres (3.7 in) long axe head is made of almost pure copper, produced by a combination of casting, cold forging, polishing, and sharpening.... The copper in the axe came from southern Tuscany. It was let into the forked end of the crook and fixed there using birch-tar and tight leather lashing....\n",
    "\n",
    ">The Y chromosome DNA of Ötzi belongs to a subclade of G defined by the SNPs M201, P287, P15, L223 and L91 (G-L91, ISOGG G2a2b, former \"G2a4\").... Analysis of his mitochondrial DNA showed that Ötzi belongs to the K1 subclade.... Ötzi is most closely related to southern Europeans, especially to geographically isolated populations like Corsicans and Sardinians. DNA analysis also showed him at high risk of atherosclerosis and lactose intolerance, with the presence of the DNA sequence of Borrelia burgdorferi, possibly making him the earliest known human with Lyme disease.... In October 2013, it was reported that 19 modern Tyrolean men were descendants of Ötzi or of a close relative...\n",
    "\n",
    "    #noted #2019-10-07\n",
    "    \n",
    "&nbsp;"
   ]
  },
  {
   "cell_type": "markdown",
   "metadata": {},
   "source": [
    "**Richard Grabowski** (2002): _East Asia, Land Reform and Economic Development_ <https://delong.typepad.com/land-reform.pdf>: \"In trying to explain the economic success of East Asia (Japan, South Korea, and Taiwan) reference is often made to the fact that all three of these countries had extensive land reforms. These land reforms are thought to haue significantly contributed to the rapid growth of the region by eliminating the landlord class and providing the basis for an equitable distribution of the benefits of growth...<!--more-->\n",
    "\n",
    ">...However, it is often argued that these land reforms were an exogenous event or experience in that it required an environment of upheaval in which an external force, the United States, played a key role in making the reform possible. This paper argues that land reform in all three countries was the result of the unfolding of similar internal historical and economic forces over an extended period of time. Thus it makes more sense to think of land reform as an endogenous event determined by internal factors... \n",
    "\n",
    ">* Rather than following static comparative advantage, the state sought to foster the development of new export industries, thus creating new comparative advantages. This process involved subsidizing particular industries, and where the continued provision of these subsidies depended on performance, usually measured by exports (Wade 1990)...\n",
    ">* Effective government is important for both schools of thought...\n",
    ">* East Asia... became front line states in the Cold War... received significant amounts of aid from the United States... underwent significant land reforms... made possible by the support of the U.S. government...\n",
    ">* It is hard for an economist using an economic perspective to understand why landlords or the landed elite would have an innate tendency to be an obstacle to long-run economic development...\n",
    ">* Taiwan, Korea and Japan experienced similar rural development processes involving relatively rapid agricultural growth and commercialization.... Peasant unrest grew before World War II. However, this unrest was not of a radical nature... tenancy disputes.... Much of this conflict resulted in compromise.... By the late 1930s, the landlord-tenant system in all three regions had been altered in favor of farmer-tenants. The relative weakness of the landlord group provides the historical background for the land reforms that occurred in the postwar era... \n",
    "\n",
    "    #noted #2019-10-06\n",
    "    \n",
    "&nbsp;"
   ]
  },
  {
   "cell_type": "markdown",
   "metadata": {},
   "source": [
    "**Cristobal Kay** (2002): _Why East Asia Overtook Latin America: Agrarian Reform, Industrialisation, and Development_ <https://delong.typepad.com/asia-latin.pdf>: \"Scholars and policy makers have long debated the causes of the spectacular economic success achieved by the East Asian newly industrialising countries (NICs) as well as the lessons that other developing countries can learn from this development experience...<!--more-->\n",
    "\n",
    ">...Latin America started to industrialise many decades before the East Asian NICs and yet was quickly overtaken by them in the last few decades. This article explores the agrarian roots that may explain the different development trajectory and performance of the East Asian NICs, particularly South Korea and Taiwan, and Latin America. The analysis focuses mainly on three interconnected factors in seeking to understand why the East Asian NICs outperformed Latin America: 1) state capacity and policy performance or 'state-craft'; 2) character of agrarian reform and its impact on equity and growth; 3) interactions between agriculture and industry in development strategies...\n",
    "\n",
    ">* The World Bank and neoliberal economists... argued... the main lesson... from the East Asian NICs [is]... thatf ree markets, free trade and an export-orientated development strategy are the key to economic success (Krueger, 1985; Balassa, 1988; Harberger,1988). Thus countries which had pursued protectionism and import substitution industrialisation (ISI) policies came in for heavy criticisms by the World Bank and advocates of neoliberal economic policies (Krueger, 1978; Balassa, 1982; Lal, 1983; Corbo _et al_, 1985)...\n",
    ">* The success of the NICs was largely a result of the crucial role played by the state, which also at times involved selective protectionist policies (Wade,1988; Gore,1996).... The state was heavily involved in the NICs' development process...\n",
    ">* It still argues against a developmentalist state and for a minimalist role of the state in economic affairs. Many developing countries influenced by the experience of the NICS have attempted to emulate their dramatic industrial export performance with varying degrees of success...\n",
    ">* I first explore to what extent South Korea's and Taiwan's comprehensive agrarian reform... was a significant factor... compared with Latin America, where agrarian reforms were implemented, if at all, only after its industrialisation was well underway. I then discuss South Korea's andTaiwan's agrarian transformation.... I compare South Korea's and Taiwan's development strategy and experience with that of Latin America... on three key issues: state capacity and policies, agrarian structure and class relations, and the significance of certain forms of intersectoral resource flows in development...\n",
    ">* Agriculture should not be squeezed to such an extent that farmers no longer have the resources or the incentives to invest.... The advantage of peasant farming, as shown in South Korea and Taiwan, is that it has a great capacity for self-exploitation...\n",
    ">* In Taiwan and South Korea, government policy left sufficient economic incentives for peasant farmers significantly to raise agricultural productivity and output...\n",
    ">* South Korea's and Taiwan's superior state capacity and policy performance.... Latin America's failure to create an agrarian structure more conducive to growth with equity.... South Korea's andTaiwan's greater ability to design an appropriate industrial policy as well as to bring about a more positive interaction between agriculture and industry...\n",
    "\n",
    "    #noted #2019-10-06\n",
    "    \n",
    "&nbsp;"
   ]
  },
  {
   "cell_type": "code",
   "execution_count": null,
   "metadata": {},
   "outputs": [],
   "source": []
  }
 ],
 "metadata": {
  "kernelspec": {
   "display_name": "Python 3",
   "language": "python",
   "name": "python3"
  },
  "language_info": {
   "codemirror_mode": {
    "name": "ipython",
    "version": 3
   },
   "file_extension": ".py",
   "mimetype": "text/x-python",
   "name": "python",
   "nbconvert_exporter": "python",
   "pygments_lexer": "ipython3",
   "version": "3.6.1"
  }
 },
 "nbformat": 4,
 "nbformat_minor": 4
}

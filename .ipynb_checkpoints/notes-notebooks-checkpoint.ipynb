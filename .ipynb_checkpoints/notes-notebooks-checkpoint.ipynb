{
 "cells": [
  {
   "cell_type": "markdown",
   "metadata": {},
   "source": [
    "### <font color=\"8800000\"> Notes: Notebooks </font>\n",
    "\n",
    "_Notes on Gini Coefficients_ <https://nbviewer.jupyter.org/github/braddelong/LS2019/blob/master/2019-09-18-notes-on-gini-coefficients.ipynb> <https://www.bradford-delong.com/2019/09/note-to-self-trying-without-much-success-to-gain-some-intuition-with-respect-to-what-gini-coefficient-_mean_.html>\n",
    "\n",
    "&nbsp;\n",
    "\n",
    "----\n",
    "\n",
    "Worked back from October 5, 2019 to August 29: <https://www.bradford-delong.com/2019/08/note-to-self-parliament-xit-brexit-notetoself-orangehairedbaboons.html>, trying to collect notes and notebook files...\n",
    "\n",
    "Do another moonth next weekend..."
   ]
  }
 ],
 "metadata": {
  "kernelspec": {
   "display_name": "Python 3",
   "language": "python",
   "name": "python3"
  },
  "language_info": {
   "codemirror_mode": {
    "name": "ipython",
    "version": 3
   },
   "file_extension": ".py",
   "mimetype": "text/x-python",
   "name": "python",
   "nbconvert_exporter": "python",
   "pygments_lexer": "ipython3",
   "version": "3.6.7"
  }
 },
 "nbformat": 4,
 "nbformat_minor": 4
}

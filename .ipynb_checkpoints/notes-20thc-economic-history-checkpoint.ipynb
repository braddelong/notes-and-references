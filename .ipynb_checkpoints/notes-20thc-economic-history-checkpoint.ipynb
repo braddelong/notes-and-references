{
 "cells": [
  {
   "cell_type": "markdown",
   "metadata": {},
   "source": [
    "### <font color=\"8800000\"> Notes: Twentieth Century Economic History </font>"
   ]
  },
  {
   "cell_type": "markdown",
   "metadata": {},
   "source": [
    "**Michael V. White**: _[Retrospectives: Who Said \"Debauch the Currency\": Keynes or Lenin?](https://www.aeaweb.org/articles?id=10.1257/jep.23.2.213)_: \"One frequently quoted passage from the work of John Maynard Keynes is that 'the best way to destroy the capitalist system [is] to debauch the currency.\" The passage, attributed to Vladimir Illyich Lenin, appears in Keynes' book _The Economic Consequences of the Peace_, which became an international bestseller when it was published in 1919. Economic historian Frank W. Fetter and others have expressed doubt that Keynes was really quoting Lenin because they found no such statement in Lenin's collected published writings. Fetter suggested that Keynes based his remark on stories about what the Soviets were supposed to be saying that he heard at the Paris peace conference of 1919. It is now possible to show that Keynes based his remark on a report of an interview with Lenin published by London and New York newspapers in April 1919. Keynes' discussion of inflation in the _Economic Consequences_ can then be read as an extended commentary on the remarks attributed to Lenin in the interview. While the report of the interview was not reprinted after 1919, it will be also shown here that Lenin responded to Keynes in a speech that was reprinted in his Collected Works...\n",
    "\n",
    "    #noted #2019-10-04\n",
    "\n",
    "&nbsp;\n",
    "\n",
    "**Hoisted from the Archives: From 2007: Your One-Stop Shop for All Your 70th Anniversary Leftist Sectarian Polemic Blogging Needs**: <img style=\"display:block; margin-left:auto; margin-right:auto;\" src=\"http://delong.typepad.com/.a/6a00e551f080038834022ad39f5903200b-pi\" alt=\"stacks and stacks of books\" title=\"stacks_and_stacks_of_books.png\" border=\"0\" width=\"738\" height=\"144\" />\n",
    "\n",
    "**Hoisted from the Archives**: From 2007: _Your One-Stop Shop for All Your 70th Anniversary Leftist Sectarian Polemic Blogging Needs_ <https://delong.typepad.com/sdj/2007/03/your_onestop_sh.html>: In anticipation of the 70th anniversary of the bloody Stalinist suppression of the _Partido Obrero de Unificación Marxista_ in the Barcelona May Days, we are--thanks to Jacob Levy--proud to bring you the latest in sectarian Marxist polemics blogging. First, we have Eric Hobsbawm declaring that George Orwell was a Traitor to Humanity by telling the truth about what he saw in Spain:\n",
    "\n",
    "Eric Hobsbawm: \"Writers supported [the Republican cause in] Spain... Hemingway, Malraux, Bernanos and virtually all the notable contemporary young British poets-Auden, Spender, Day Lewis, MacNeice did. Spain was the experience that was central to their lives between 1936 and 1939.... Polemics about the civil war [within the Left]... have never ceased since 1939. This was not so while the war was still continuing, although such incidents as the banning of the dissident Marxist Poum party and the murder of its leader Andrés Nin caused some international protest. Plainly a number of foreign volunteers... were shocked by... the behaviour of the Russians and much else...\n",
    "\n",
    ">And yet, during the war, the doubters remained silent... They did not want to give aid to the enemies of the great cause.... The exception proves the rule: George Orwell's _Homage to Catalonia_.... Orwell himself admitted after his return from Spain that \"a number of people have said to me with varying degrees of frankness that one must not tell the truth about what is happening in Spain and the part played by the Communist Party because to do so would prejudice public opinion against the Spanish government and so aid Franco.\"... Only in the cold-war era did Orwell cease to be an awkward, marginal figure....\n",
    "\n",
    ">Polemics... are legitimate... only if we separate out debate on real issues from the *parti pris* of political sectarianism, cold-war propaganda and pure ignorance.... A serious war conducted by a government requires structure, discipline and a degree of centralisation. What characterises social revolutions like that of [Spain in] 1936 is local initiative, spontaneity, independence of, or even resistance to, higher authority.... In short, what was and remains at issue in these debates is what divided Marx and Bakunin. Polemics about the dissident Marxist Poum are irrelevant.... The conflict between libertarian enthusiasm and disciplined organisation... remains real.... Wars, however flexible the chains of command, cannot be fought, or war economies run, in a libertarian fashion. The Spanish civil war could not have been waged, let alone won, along Orwellian lines....\n",
    "\n",
    ">Moral revulsion against Stalinism and the behaviour of its agents in Spain is justified.... yet... not central to the problem of the civil war. Marx would have had to confront Bakunin even if all on the republican side had been angels.... Among those who fought for the republic as soldiers, most found Marx more relevant than Bakunin...\n",
    "\n",
    "Second, we have a reply by Stephen Schwartz, whose affection for Eric Hobsbawm is far smaller than mine:\n",
    "\n",
    ">Eric Hobsbawm's Stalinist Homage to Catalonia: Eric Hobsbawm... political and pseudo-intellectual legacy of Stalinism... banal but repellent rehash... long-discredited clichés... fundamental lie of Stalinist propaganda, which holds that the Republicans would have won the war if they had submitted to dictation from Moscow....\n",
    "\n",
    ">Hobsbawm... contemptible exercise in pseudo-history... CNT militants in the uprising at Casas Viejas, a rural hamlet in Andalusia, in 1933.... Jerome Mintz... exposed Hobsbawm as a mendacious tourist.... “[H]is account is based primarily on a preconceived evolutionary model of political development rather than on data gathered in field research.” Mintz correctly states, “The model scales labor movements in accord with their progress toward mass parties and central authority... [Hobsbawm] explains how anarchosyndicalists were presumed to act rather than what actually took place... his evolutionary model misled him on virtually every point.”... In Spain today Mintz’s work, based on extensive and serious research and interviews, enjoys high esteem....\n",
    "\n",
    ">Hobsbawm... the Guardian in 2007... attack[s] [George] Orwell, the [Catalonian Anarchist Movement] POUM, and the general legacy of the Spanish revolution....\n",
    "\n",
    ">Three distinct trends appeared on the Republican side [of the Spanish Cvil War]:\n",
    "\n",
    ">1. the Catalan Left, Basque nationalists, and other liberal bourgeois trends who wanted to carry out a Jacobin-style modernization;\n",
    ">2. the proletarian upsurge of the CNT, Socialists, and POUM;\n",
    ">3. the Stalinist conspiracy to create a one-party dictatorship.\n",
    "\n",
    ">Moscow tried to unite 1) with 3) to overcome 2), but 1) and 2) had more in common with each other, and the attempt failed. Stalin, however, succeeded in effectively sabotaging the Republican defense; his discreet 1938 message to Hitler indicating Soviet willingness to withdraw support for the Republic was a crucial step....\n",
    "\n",
    ">The Stalinist view of [George] Orwell put forward by... [Hobsbawm] dismisses _Homage to Catalonia_ because it was turned down by a Soviet-lining publisher.... For Hobsbawm, Orwell is not only illegitimate because his book did not sell well, but because he was “an awkward, marginal figure.”... As to the POUM... Hobsbawm.. refers with something approaching disdain to “the murder of its leader Andrés Nin [having] caused some international protest.... Polemics about the dissident Marxist Poum are irrelevant here and, given that party’s small size and marginal role in the civil war, barely significant.”...\n",
    "\n",
    ">Andreu Nin (1892-1937) was not simply... leader of an anti-Stalinist party. He was also a respected Catalan-language journalist and the translator into Catalan of several major Russian works, including Crime and Punishment and Anna Karenina. His versions of these classics are still widely known in Catalonia, and it is mainly because of them that his murder by the Stalinists has never been forgotten.... Nin's assassination was the subject of a prime-time documentary, Operació Nikolai, shown on the Catalan channel TV3 in 1992.... To kill Nin was not the same as it would have been to murder, say, the American Trotskyist Max Shachtman, but would have been more like liquidating John Dos Passos....\n",
    "\n",
    ">The role of the POUM in Catalan history was never marginal... it filled the Marxist political space in the region’s labor movement... its members included most of the original founders of the Spanish Communist party, and it embraced “minority” nationalism, i.e. Catalanism, at a time when such a position was novel in Spain and... almost unknown elsewhere in the Western European left....\n",
    "\n",
    ">Hobsbawm informs us “Wars, however flexible the chains of command, cannot be fought, or war economies run, in a libertarian fashion. The Spanish civil war could not have been waged, let alone won, along Orwellian lines.” Once again, the Stalin-nostalgia betrays his ignorance of Spanish reality.... [T]he militia units generally fought better than the militarized units.... [T]he Stalinist-controlled International Brigades and the militarized Republican soldiery with whom they were coordinated were known for incompetence in battle, desertion, and, in the case of many of the foreigners, their reassignment to special groups ordered by the Russians to kill leftist dissidents, since the Spanish would not carry out such duties....\n",
    "\n",
    ">The Spanish knew so many things that Hobsbawm will never know – and above all, they know that while Orwell’s methods might not have guaranteed the victory of the Spanish Republic, those of Stalin and his admirers assured its defeat...\n",
    "\n",
    "    #history #hoistedfromthearchives #orangehairedbaboons #publicsphere #2019-09-25\n",
    "    \n",
    "&nbsp;"
   ]
  },
  {
   "cell_type": "markdown",
   "metadata": {},
   "source": [
    "**Joseph Stalin** (1935): _\"The Pope!_ <https://en.wikiquote.org/wiki/Joseph_Stalin> How many divisions has he got?... (Said sarcastically to Pierre Laval in 1935, in response to being asked whether he could do anything with Russian Catholics to help Laval win favour with the Pope, to counter the increasing threat of Nazism; as quoted in _The Second World War_ (1948) by Winston Churchill vol. 1, ch. 8, p. 105.)\n",
    "\n",
    "    #noted #2019-09-24\n",
    "    \n",
    "&nbsp;"
   ]
  },
  {
   "cell_type": "markdown",
   "metadata": {},
   "source": [
    "**Soviet Visuals**: _\"Today in 1983, Lieutenant Colonel Stanislav Petrov prevented a potential nuclear war_ <https://twitter.com/sovietvisuals/status/1044899638271193088>: During Petrov's shift at the USSR nuclear early warning centre, computers detected incoming missiles from the US. He identified them as a false alarm and did not report them to his superiors... \n",
    "\n",
    "    #noted #2019-09-24\n",
    "    \n",
    "&nbsp;"
   ]
  },
  {
   "cell_type": "markdown",
   "metadata": {},
   "source": [
    "**For the Weekend: The New Colossus**: \n",
    "\n",
    "<img src=\"https://delong.typepad.com/.a/6a00e551f0800388340240a48a39e7200c-pi\" alt=\"Statue of liberty Google Search\" title=\"statue_of_liberty_-_Google_Search.png\" border=\"0\" width=\"234\" height=\"500\" style=\"float:right;\" />\n",
    "\n",
    "**Emma Lazarus**: _[The New Colossus](https://en.wikipedia.org/wiki/The_New_Colossus)_: \"Not like the brazen giant of Greek fame,\n",
    "With conquering limbs astride from land to land;\n",
    "Here at our sea-washed, sunset gates shall stand\n",
    "A mighty woman with a torch, whose flame\n",
    "Is the imprisoned lightning, and her name\n",
    "Mother of Exiles. From her beacon-hand\n",
    "Glows world-wide welcome; her mild eyes command\n",
    "The air-bridged harbor that twin cities frame.\n",
    "\n",
    "\"Keep, ancient lands, your storied pomp!\" cries she\n",
    "With silent lips. \"Give me your tired, your poor,\n",
    "Your huddled masses yearning to breathe free,\n",
    "The wretched refuse of your teeming shore.\n",
    "Send these, the homeless, tempest-tost to me,\n",
    "I lift my lamp beside the golden door!\"...\n",
    "\n",
    "<img style=\"display:block; margin-left:auto; margin-right:auto;\" src=\"https://delong.typepad.com/.a/6a00e551f0800388340240a4b3895f200d-pi\" alt=\"Teacher scholastic com activities immigration pdfs by region region table pdf\" title=\"teacher_scholastic_com_activities_immigration_pdfs_by_region_region_table_pdf.png\" border=\"0\" width=\"500\" height=\"660\" />\n",
    "\n",
    "    #globalization #immigration #orangehairedbaboons #weekendreading #2019-09-29\n",
    "    \n",
    "&nbsp;"
   ]
  },
  {
   "cell_type": "markdown",
   "metadata": {},
   "source": [
    "**Weekend Reading: Lin Zexu to Queen Victoria**: <img style=\"display:block; margin-left:auto; margin-right:auto;\" src=\"https://delong.typepad.com/.a/6a00e551f0800388340240a4b38871200d-pi\" alt=\"A busy stacking room in the opium factory at Patna India L Wellcome V0019154 First Opium War Wikipedia\" title=\"A_busy_stacking_room_in_the_opium_factory_at_Patna__India__L_Wellcome_V0019154_-_First_Opium_War_-_Wikipedia.png\" border=\"0\" width=\"750\" height=\"115\" />\n",
    "\n",
    "**Weekend Reading**: Lin Zexu (1839): _[To Queen Victoria](https://en.wikipedia.org/wiki/Lin_Zexu#Early_life_and_career)_: \"We find that your country is sixty or seventy thousand li from China. The purpose of your ships in coming to China is to realize a large profit. Since this profit is realized in China and is in fact taken away from the Chinese people, how can foreigners return injury for the benefit they have received by sending this poison to harm their benefactors? They may not intend to harm others on purpose, but the fact remains that they are so obsessed with material gain that they have no concern whatever for the harm they can cause to others. Have they no conscience? I have heard that you strictly prohibit opium in your own country, indicating unmistakably that you know how harmful opium is. You do not wish opium to harm your own country, but you choose to bring that harm to other countries such as China. Why?...<!--more-->\n",
    "\n",
    ">...The products that originate from China are all useful items. They are good for food and other purposes and are easy to sell. Has China produced one item that is harmful to foreign countries? For instance, tea and rhubarb are so important to foreigners' livelihood that they have to consume them every day. Were China to concern herself only with her own advantage without showing any regard for other people's welfare, how could foreigners continue to live?\n",
    "\n",
    ">I have heard that the areas under your direct jurisdiction such as London, Scotland, and Ireland do not produce opium; it is produced instead in your Indian possessions such as Bengal, Madras, Bombay, Patna, and Malwa. In these possessions the English people not only plant opium poppies that stretch from one mountain to another but also open factories to manufacture this terrible drug.\n",
    "\n",
    ">As months accumulate and years pass by, the poison they have produced increases in its wicked intensity, and its repugnant odor reaches as high as the sky. Heaven is furious with anger, and all the gods are moaning with pain! It is hereby suggested that you destroy and plow under all of these opium plants and grow food crops instead, while issuing an order to punish severely anyone who dares to plant opium poppies again.\n",
    "\n",
    ">A murderer of one person is subject to the death sentence; just imagine how many people opium has killed! This is the rationale behind the new law which says that any foreigner who brings opium to China will be sentenced to death by hanging or beheading. Our purpose is to eliminate this poison once and for all and to the benefit of all mankind...\n",
    "\n",
    "    #globalization #moralresponsibility #weekendreading #2019-09-28\n",
    "\n",
    "&nbsp;"
   ]
  },
  {
   "cell_type": "markdown",
   "metadata": {},
   "source": [
    "**Nikita Khrushchev** (1959): _[On Peaceful Coexistence](https://www.foreignaffairs.com/articles/united-states/1959-10-01/peaceful-coexistence)_: \"The socialist states are ruled by the working people themselves.... To them war spells grief and tears, death, devastation and misery. Ordinary people have no need for war.... Peaceful coexistence does not mean merely living side by side... with the constantly remaining threat of [war] breaking out in the future. Peaceful coexistence can and should develop into peaceful competition for the purpose of satisfying man's needs in the best possible way.... Let us try out in practice whose system is better, let us compete without war. This is much better than competing in who will produce more arms and who will smash whom. We stand and always will stand for such competition as will help to raise the well-being of the people to a higher level.... We Communists believe that the idea of Communism will ultimately be victorious throughout the world, just as it has been victorious in our country, in China and in many other states.... We may argue, we may disagree with one another. The main thing is to keep to the positions of ideological struggle, without resorting to arms in order to prove that one is right.... With military techniques what they are today, there are no inaccessible places in the world. Should a world war break out, no country will be able to shut itself off from a crushing blow.... Ultimately that system will be victorious on the globe which will offer the nations greater opportunities for improving their material and spiritual life...\n",
    "\n",
    "    #weekendreading #coldwar #security #khrushchev #peacefulcoexistence #2019-09-13\n",
    "\n",
    "&nbsp;"
   ]
  },
  {
   "cell_type": "markdown",
   "metadata": {},
   "source": [
    "**Note to Self**: _[The Ten Americans Who Did the Most to Win the Cold War: Hoisted from the Archives](https://www.bradford-delong.com/2019/02/note-the-ten-americans-who-did-the-most-to-win-the-cold-war-archive-entry-from-brad-delongs-webjournal.html)_: Harry Dexter White... George Kennan... George Marshall... Arthur Vandenberg... Paul Hoffman... Dean Acheson... Harry S Truman... Dwight D. Eisenhower... Gerald Ford...\n",
    "\n",
    "    #notetoself #2019-09-04\n",
    "    \n",
    "&nbsp;"
   ]
  },
  {
   "cell_type": "markdown",
   "metadata": {},
   "source": [
    "_Grand Narrative: An Intake from Slouching Towards Utopia?: An Economic History of the Twentieth Century, 1870-2016_ <https://www.bradford-delong.com/2019/08/grand-narrative-an-intake-from-slouching-towards-utopia-an-economic-history-of-the-twentieth-century-1870-2016.html>: <https://www.icloud.com/pages/0TzensY9YyNvqcY8elYagLUnQ> <https://www.icloud.com/keynote/0_nA1dc3XLgFa_2rEVsk3nuWQ>...\n",
    "\n",
    "&nbsp;"
   ]
  },
  {
   "cell_type": "markdown",
   "metadata": {},
   "source": [
    "**Weekend Reading: Annie Wood Besant** (1878): _[The Law of Population: Its Consequences and Its Bearing Upon Human Conduct and Morals](http://susannaives.com/wordpress/2012/06/is-your-victorian-gentleman-sponge-worthy/)_: \"The preventive check which is so generally practised in France that Dr. Drysdale—with a rarely wide French experience—stated that among the peasantry it was 'used universally', and was 'practised by almost every male in Paris, and all over the country', is one which depends entirely on the self-control of the man. It consists simply in the withdrawal of the husband previous to the emission of the semen, and is, of course, absolutely certain as a preventive...\n",
    "\n",
    ">...A few among the French doctors contend that the practice is injurious, more especially to the wife; but they have failed, so far as we can judge, in making out their case, for they advance no proofs in support of their theory, while the universal practice of the French speaks strongly on the other side.\n",
    "\n",
    ">The preventive check advocated by Dr. Knowlton is, on the other hand, entirely in the hands of the wife. It consists in the use of the ordinary syringe immediately after intercourse, a solution of sulphate of zinc or of alum being used instead of water. There is but little doubt that this check is an effective one, a most melancholy proof of its effectiveness being given by Dr. J. C. Barr, who, giving evidence before the Commission on the working of the Contagious Diseases Act, stated:—”Every woman who leaves the hospital is instructed in the best mode of preventing disease. These are cleanliness, injections of alum and sulphate of zinc.”\n",
    "\n",
    ">Professor Sheldon Amos, dealing with the same painful subject, refers to this evidence, and quotes Dr. Barr as saying again, ”my custom is to instruct them to keep themselves clean, to use injections and lotions.” These women are not meant to bear children, they are to be kept ”fit for use” by Her Majesty’s soldiers.\n",
    "\n",
    ">Apart altogether from this sad, but governmentally authorized use of this check, there are many obvious disadvantages connected with it as a matter of taste and feeling. The same remark applies to the employment of the baudruche, a covering used by men of loose character as a guard against syphilitic diseases, and occasionally recommended as a preventive check.\n",
    "\n",
    ">The check which appears to us to be preferable, as at once certain, and in no sense grating on any feeling of affection or of delicacy, is that recommended by Carlile many years ago in his _Every Woman’s Book_...\n",
    "\n",
    "    #weekendreading\n",
    "    \n",
    "&nbsp;"
   ]
  }
 ],
 "metadata": {
  "kernelspec": {
   "display_name": "Python 3",
   "language": "python",
   "name": "python3"
  },
  "language_info": {
   "codemirror_mode": {
    "name": "ipython",
    "version": 3
   },
   "file_extension": ".py",
   "mimetype": "text/x-python",
   "name": "python",
   "nbconvert_exporter": "python",
   "pygments_lexer": "ipython3",
   "version": "3.6.7"
  }
 },
 "nbformat": 4,
 "nbformat_minor": 4
}

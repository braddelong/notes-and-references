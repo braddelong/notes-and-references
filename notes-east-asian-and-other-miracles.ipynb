{
 "cells": [
  {
   "cell_type": "markdown",
   "metadata": {},
   "source": [
    "### <font color=\"8800000\"> Notes: East Asian and Other Miracles </font>"
   ]
  },
  {
   "cell_type": "markdown",
   "metadata": {},
   "source": [
    "**Readings**: _Lessons from East Asian Development: Japanese Industrial Policy_ <https://www.bradford-delong.com/2019/10/note-to-self-lessons-from-east-asian-development-japanese-industrial-policy-readings-oriol-pons-benaiges-2017.html>:\n",
    "\n",
    "* **Oriol Pons-Benaiges** (2017): Did Government Intervention Target Technological Externalities? Industrial Policy and Economic Growth in Postwar Japan, 1964-1983_ <https://delong.typepad.com/06_tech_externalities_japan.pdf\n",
    "\n",
    "* **Chalmers Johnson** (1982): _MITI and the Japanese Miracle: The Growth of Industrial Policy in Japan_ <https://archive.org/details/mitijapanesemira00chal>...\n",
    "\n",
    "* **Paul R. Krugman** (1984): _The U.S. Response to Foreign Industrial Targeting_ <krugman-targeting.pdf>...\n",
    "\n",
    "* **Paul R. Krugman** (1983): _Targeted Industrial Policies: Theory and Evidence_ <https://delong.typepad.com/krugman-kc.pdf>...\n",
    "\n",
    "* **Nathan Lane**: _Manufacturing Revolutions: Industrial Policy and Networks in South Korea_ <https://delong.typepad.com/lane-korea.pdf>...\n",
    "\n",
    "&nbsp;"
   ]
  }
 ],
 "metadata": {
  "kernelspec": {
   "display_name": "Python 3",
   "language": "python",
   "name": "python3"
  },
  "language_info": {
   "codemirror_mode": {
    "name": "ipython",
    "version": 3
   },
   "file_extension": ".py",
   "mimetype": "text/x-python",
   "name": "python",
   "nbconvert_exporter": "python",
   "pygments_lexer": "ipython3",
   "version": "3.6.7"
  }
 },
 "nbformat": 4,
 "nbformat_minor": 4
}

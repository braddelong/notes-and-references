{
 "cells": [
  {
   "cell_type": "markdown",
   "metadata": {},
   "source": [
    "### <font color=\"8800000\"> Notes: Inequality </font>"
   ]
  },
  {
   "cell_type": "markdown",
   "metadata": {},
   "source": [
    "**Doug Jones**: _The Patriarchal Age_ <https://logarithmichistory.wordpress.com/2019/09/27/the-patriarchal-age-5/>: \"The left panel shows effective population sizes based on Y chromosome DNA, transmitted down the male line. The right panel shows effective population sizes based mitochondrial DNA, transmitted down the female line. The dramatic dip on the left panel, where effective population sizes go way down in the last ten thousand years, means that there was a period, from the initial spread of major language families to near the dawn of history, where just a few men were leaving lots of descendants in the male line. This must reflect a time when polygyny – some men taking multiple wives, others not reproducing at all – was common. But this pattern probably reflects more than just polygyny. It probably also reflects a continuing advantage, carried over many generations, for some male lines of descent. In other words, back in the day, not just did Lord Y (or whoever) have many wives and many sons, but his sons, his sons’ sons. his son’s son’s sons, and so on, had many offspring. This probably implies some kind of long-term social memory, such that that the “Sons of Y” or the “House of Y” had a privileged position for many generations.... Eurasian history is often told as the story the rise of states and empires. But it’s also the story of the rise of patrilineal descent groups (and the heavy policing of female sexuality to make sure of paternity in the male line)...\n",
    "\n",
    "<img style=\"display:block; margin-left:auto; margin-right:auto;\" src=\"https://delong.typepad.com/.a/6a00e551f0800388340240a4b41370200d-pi\" alt=\"Patriarchy jpg 582×248 pixels\" title=\"patriarchy_jpg_582×248_pixels.png\" border=\"0\" width=\"498\" height=\"232\" />\n",
    "\n",
    "<!--more-->\n",
    "\n",
    "**Monika Karmin _et al._**: _A Recent Bottleneck of Y Chromosome Diversity Coincides with a Global Change in Culture_ <https://bib.irb.hr/datoteka/715300.2015_Genome_Res._Karmin-A_recent_bottleneck_of_Y_chromosome_diversity.pdf>:\n",
    "\n",
    "* _Supplemental Material_ <https://genome.cshlp.org/content/suppl/2015/02/18/gr.186684.114.DC1.html>\n",
    "\n",
    "<img style=\"display:block; margin-left:auto; margin-right:auto;\" src=\"https://delong.typepad.com/.a/6a00e551f0800388340240a4d8a0c8200b-pi\" alt=\"Https genome cshlp org content suppl 2015 02 18 gr 186684 114 DC1 Supplemental Figures pdf\" title=\"https___genome_cshlp_org_content_suppl_2015_02_18_gr_186684_114_DC1_Supplemental_Figures_pdf.png\" border=\"0\" width=\"500\" />\n",
    "\n",
    "<img style=\"display:block; margin-left:auto; margin-right:auto;\" src=\"https://delong.typepad.com/.a/6a00e551f0800388340240a4d8a0d3200b-pi\" alt=\"Https genome cshlp org content suppl 2015 02 18 gr 186684 114 DC1 Supplemental Figures pdf\" title=\"https___genome_cshlp_org_content_suppl_2015_02_18_gr_186684_114_DC1_Supplemental_Figures_pdf.png\" border=\"0\" width=\"499\" height=\"471\" />\n",
    "\n",
    "<img style=\"display:block; margin-left:auto; margin-right:auto;\" src=\"https://delong.typepad.com/.a/6a00e551f0800388340240a4b413c0200d-pi\" alt=\"Https genome cshlp org content suppl 2015 02 18 gr 186684 114 DC1 Supplemental Figures pdf\" title=\"https___genome_cshlp_org_content_suppl_2015_02_18_gr_186684_114_DC1_Supplemental_Figures_pdf.png\" border=\"0\" width=\"359\" height=\"500\" />\n",
    "\n",
    "    #noted #2019-10-06\n",
    "    \n",
    "&nbsp;"
   ]
  }
 ],
 "metadata": {
  "kernelspec": {
   "display_name": "Python 3",
   "language": "python",
   "name": "python3"
  },
  "language_info": {
   "codemirror_mode": {
    "name": "ipython",
    "version": 3
   },
   "file_extension": ".py",
   "mimetype": "text/x-python",
   "name": "python",
   "nbconvert_exporter": "python",
   "pygments_lexer": "ipython3",
   "version": "3.6.7"
  }
 },
 "nbformat": 4,
 "nbformat_minor": 4
}
